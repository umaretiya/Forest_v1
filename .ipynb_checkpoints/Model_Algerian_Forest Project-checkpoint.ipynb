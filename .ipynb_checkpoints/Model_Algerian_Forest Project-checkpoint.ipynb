{
 "cells": [
  {
   "cell_type": "markdown",
   "id": "27e39da3",
   "metadata": {},
   "source": [
    "# Algerina_Forest_MahchineLearning_Project - Model"
   ]
  },
  {
   "cell_type": "markdown",
   "id": "f62c8e04",
   "metadata": {},
   "source": [
    "### 1 - Train_test_split\n",
    "### 2 - Scalling & Transforming\n",
    "### 3 - Training Model\n",
    "### 4 - Predicting a Model\n",
    "### 5 - Accuracy Score - different metrices\n",
    "### 6 - Evalluating a Best fit Model\n",
    "### 7 - Hyper paramer tuning - Mostly use [GridSearchCV,RandomizedSearchCV]\n",
    "### 8 - Best feature selecting\n",
    "### 9 - Deploying - MLOps......................"
   ]
  },
  {
   "cell_type": "markdown",
   "id": "7735f37b",
   "metadata": {},
   "source": [
    "## Data Processing"
   ]
  },
  {
   "cell_type": "code",
   "execution_count": null,
   "id": "3b887350",
   "metadata": {},
   "outputs": [],
   "source": [
    "import pandas as pd\n",
    "import matplotlib.pyplot as plt\n",
    "import numpy as np\n",
    "import seaborn as sns\n",
    "%matplotlib inline"
   ]
  },
  {
   "cell_type": "code",
   "execution_count": null,
   "id": "a48b0d9c",
   "metadata": {},
   "outputs": [],
   "source": [
    "import warnings\n",
    "warnings.filterwarnings(action='ignore')"
   ]
  },
  {
   "cell_type": "code",
   "execution_count": null,
   "id": "ce9c0580",
   "metadata": {},
   "outputs": [],
   "source": [
    "df = pd.read_csv(\"Algerian_fires_data_Cleaned.csv\")"
   ]
  },
  {
   "cell_type": "code",
   "execution_count": null,
   "id": "5e0e9f44",
   "metadata": {},
   "outputs": [],
   "source": [
    "df.columns"
   ]
  },
  {
   "cell_type": "code",
   "execution_count": null,
   "id": "498326e0",
   "metadata": {},
   "outputs": [],
   "source": [
    "df.drop(['day', 'month', 'year'],axis=1,inplace=True)"
   ]
  },
  {
   "cell_type": "code",
   "execution_count": null,
   "id": "4860a7f2",
   "metadata": {},
   "outputs": [],
   "source": [
    "df.Classes = np.where(df.Classes == 'not fire',0,1)"
   ]
  },
  {
   "cell_type": "code",
   "execution_count": null,
   "id": "78622d0d",
   "metadata": {},
   "outputs": [],
   "source": [
    "g = df.groupby(['FWI'])['Classes']\n",
    "sns.histplot(x='FWI',hue='Classes',data=df)"
   ]
  },
  {
   "cell_type": "code",
   "execution_count": null,
   "id": "8e028eea",
   "metadata": {},
   "outputs": [],
   "source": [
    "df.columns"
   ]
  },
  {
   "cell_type": "markdown",
   "id": "e0b44d45",
   "metadata": {},
   "source": [
    "### Regression Task"
   ]
  },
  {
   "cell_type": "code",
   "execution_count": null,
   "id": "f1a198eb",
   "metadata": {},
   "outputs": [],
   "source": [
    "from sklearn.preprocessing import StandardScaler\n",
    "from sklearn.model_selection import train_test_split,RandomizedSearchCV,GridSearchCV"
   ]
  },
  {
   "cell_type": "code",
   "execution_count": null,
   "id": "766f4178",
   "metadata": {},
   "outputs": [],
   "source": [
    "X = df.drop('FWI',axis=1)\n",
    "y = df['FWI']\n",
    "X.shape"
   ]
  },
  {
   "cell_type": "code",
   "execution_count": null,
   "id": "401e3071",
   "metadata": {},
   "outputs": [],
   "source": [
    "X_train,X_test,y_train,y_test = train_test_split(X,y,test_size=0.25,random_state=0)"
   ]
  },
  {
   "cell_type": "code",
   "execution_count": null,
   "id": "4fe4a9ce",
   "metadata": {},
   "outputs": [],
   "source": [
    "X_train.shape,X_test.shape"
   ]
  },
  {
   "cell_type": "code",
   "execution_count": null,
   "id": "0a254bf0",
   "metadata": {},
   "outputs": [],
   "source": [
    "X_train.corr()"
   ]
  },
  {
   "cell_type": "code",
   "execution_count": null,
   "id": "b12f48d8",
   "metadata": {},
   "outputs": [],
   "source": [
    "plt.figure(figsize=(15,10))\n",
    "cor = X_train.corr()\n",
    "sns.heatmap(cor,annot=True,cmap=plt.cm.CMRmap_r)\n",
    "plt.show()"
   ]
  },
  {
   "cell_type": "code",
   "execution_count": null,
   "id": "a2ff841d",
   "metadata": {},
   "outputs": [],
   "source": [
    "def correlation(dataset, thresold):\n",
    "    col_corr = set()\n",
    "    corr_matrix = dataset.corr()\n",
    "    \n",
    "    for i in range(len(corr_matrix.columns)):\n",
    "        for j in range(i):\n",
    "            if abs(corr_matrix.iloc[i,j]) > thresold:\n",
    "                colname = corr_matrix.columns[i]\n",
    "                col_corr.add(colname)\n",
    "    return col_corr"
   ]
  },
  {
   "cell_type": "code",
   "execution_count": null,
   "id": "fc10d997",
   "metadata": {},
   "outputs": [],
   "source": [
    "corr_feature = correlation(X_train, 0.75)\n",
    "corr_feature"
   ]
  },
  {
   "cell_type": "code",
   "execution_count": null,
   "id": "efd555da",
   "metadata": {},
   "outputs": [],
   "source": [
    "X_train.corr()"
   ]
  },
  {
   "cell_type": "code",
   "execution_count": null,
   "id": "c54f0b64",
   "metadata": {},
   "outputs": [],
   "source": [
    "X_train.corr().iloc[10,2]"
   ]
  },
  {
   "cell_type": "code",
   "execution_count": null,
   "id": "a1290e5e",
   "metadata": {
    "scrolled": true
   },
   "outputs": [],
   "source": [
    "corr_set = set()\n",
    "for i in range(len(X_train.corr().columns)):\n",
    "    for j in range(i):\n",
    "        if abs(X_train.corr().iloc[i,j]) > 0.75:\n",
    "            print(X_train.corr().columns[i])\n",
    "            corr_set.add(X_train.corr().columns[i])\n",
    "print(corr_set)"
   ]
  },
  {
   "cell_type": "code",
   "execution_count": null,
   "id": "e20e67c2",
   "metadata": {},
   "outputs": [],
   "source": [
    "X_train.drop(corr_feature, axis=1, inplace= True)\n",
    "X_test.drop(corr_feature, axis=1, inplace= True)\n",
    "X_train.shape, X_test.shape"
   ]
  },
  {
   "cell_type": "markdown",
   "id": "381e1121",
   "metadata": {},
   "source": [
    "### Applying a Standardizations and Feature Scalling"
   ]
  },
  {
   "cell_type": "code",
   "execution_count": null,
   "id": "611bb02d",
   "metadata": {},
   "outputs": [],
   "source": [
    "def scaler_standard(X_train,X_test):\n",
    "    scaler = StandardScaler()\n",
    "    X_train_scaled = scaler.fit_transform(X_train)\n",
    "    X_test_scaled = scaler.transform(X_test)\n",
    "    \n",
    "    return X_train_scaled,X_test_scaled"
   ]
  },
  {
   "cell_type": "code",
   "execution_count": null,
   "id": "8072f2e7",
   "metadata": {},
   "outputs": [],
   "source": [
    "X_train_scaled,X_test_scaled =scaler_standard(X_train,X_test)"
   ]
  },
  {
   "cell_type": "code",
   "execution_count": null,
   "id": "12e9d839",
   "metadata": {},
   "outputs": [],
   "source": [
    "plt.subplots(figsize=(15,5))\n",
    "plt.subplot(1,2,1)\n",
    "sns.boxplot(data=X_train)\n",
    "plt.title('X_train Without Scaling')\n",
    "\n",
    "plt.subplot(1,2,2)\n",
    "sns.boxplot(data=X_train_scaled)\n",
    "plt.title('X_train with Scalling')"
   ]
  },
  {
   "cell_type": "markdown",
   "id": "4f7ba1da",
   "metadata": {},
   "source": [
    "# Model Selection for Regression"
   ]
  },
  {
   "cell_type": "markdown",
   "id": "e563f42d",
   "metadata": {},
   "source": [
    "### Simple Linear Regression"
   ]
  },
  {
   "cell_type": "code",
   "execution_count": null,
   "id": "b702e306",
   "metadata": {},
   "outputs": [],
   "source": [
    "from sklearn.linear_model import LinearRegression\n",
    "\n",
    "lin_reg = LinearRegression()\n",
    "lin_reg.fit(X_train_scaled,y_train)\n",
    "lin_reg_pred = lin_reg.predict(X_test_scaled)\n",
    "\n",
    "lin_reg.score(X_test_scaled,y_test)"
   ]
  },
  {
   "cell_type": "markdown",
   "id": "93178f68",
   "metadata": {},
   "source": [
    "### Lasso Regression"
   ]
  },
  {
   "cell_type": "code",
   "execution_count": null,
   "id": "2381c03a",
   "metadata": {},
   "outputs": [],
   "source": [
    "from sklearn.linear_model import Lasso\n",
    "\n",
    "lasso = Lasso()\n",
    "lasso.fit(X_train_scaled,y_train)\n",
    "lasso_pred = lasso.predict(X_test_scaled)"
   ]
  },
  {
   "cell_type": "markdown",
   "id": "8242433a",
   "metadata": {},
   "source": [
    "### Ridge Regression"
   ]
  },
  {
   "cell_type": "code",
   "execution_count": null,
   "id": "a4f1f120",
   "metadata": {},
   "outputs": [],
   "source": [
    "from sklearn.linear_model import Ridge\n",
    "\n",
    "ridge = Ridge()\n",
    "ridge.fit(X_train_scaled,y_train)\n",
    "ridge_pred = ridge.predict(X_test_scaled)"
   ]
  },
  {
   "cell_type": "markdown",
   "id": "fd6b2424",
   "metadata": {},
   "source": [
    "### Support Vector Regression"
   ]
  },
  {
   "cell_type": "code",
   "execution_count": null,
   "id": "5d67894d",
   "metadata": {},
   "outputs": [],
   "source": [
    "from sklearn.svm import SVR\n",
    "\n",
    "svr = SVR()\n",
    "svr.fit(X_train_scaled,y_train)\n",
    "svr_pred = svr.predict(X_test_scaled)"
   ]
  },
  {
   "cell_type": "markdown",
   "id": "f85ce09e",
   "metadata": {},
   "source": [
    "### Random Forest Regression"
   ]
  },
  {
   "cell_type": "code",
   "execution_count": null,
   "id": "19a4cd3b",
   "metadata": {},
   "outputs": [],
   "source": [
    "from sklearn.ensemble import RandomForestRegressor\n",
    "\n",
    "rfr = RandomForestRegressor()\n",
    "rfr.fit(X_train_scaled,y_train)\n",
    "rfr_pred = rfr.predict(X_test_scaled)"
   ]
  },
  {
   "cell_type": "markdown",
   "id": "2db9f5f4",
   "metadata": {},
   "source": [
    "### K-Neighbors Regression"
   ]
  },
  {
   "cell_type": "code",
   "execution_count": null,
   "id": "df467e01",
   "metadata": {},
   "outputs": [],
   "source": [
    "from sklearn.neighbors import KNeighborsRegressor\n",
    "\n",
    "knr = KNeighborsRegressor()\n",
    "knr.fit(X_train_scaled,y_train)\n",
    "knr_pred = knr.predict(X_test_scaled)"
   ]
  },
  {
   "cell_type": "markdown",
   "id": "725e1719",
   "metadata": {},
   "source": [
    "#### Regression Model results Summary"
   ]
  },
  {
   "cell_type": "code",
   "execution_count": null,
   "id": "77d7444e",
   "metadata": {},
   "outputs": [],
   "source": [
    "from sklearn.metrics import mean_absolute_error,r2_score\n",
    "\n",
    "lin_mae = mean_absolute_error(y_test,lin_reg_pred)\n",
    "lasso_mae = mean_absolute_error(y_test,lasso_pred)\n",
    "ridge_mae = mean_absolute_error(y_test,ridge_pred)\n",
    "svr_mae = mean_absolute_error(y_test,svr_pred)\n",
    "rfr_mae = mean_absolute_error(y_test,rfr_pred)\n",
    "knr_mae = mean_absolute_error(y_test,knr_pred)\n",
    "\n",
    "lin_r2 = r2_score(y_test,lin_reg_pred)\n",
    "lasso_r2  = r2_score(y_test,lasso_pred)\n",
    "ridge_r2 = r2_score(y_test,ridge_pred)\n",
    "svr_r2 = r2_score(y_test,svr_pred)\n",
    "rfr_r2 = r2_score(y_test,rfr_pred)\n",
    "knr_r2 = r2_score(y_test,knr_pred)"
   ]
  },
  {
   "cell_type": "code",
   "execution_count": null,
   "id": "f025a68f",
   "metadata": {},
   "outputs": [],
   "source": [
    "from sklearn.model_selection import cross_val_score"
   ]
  },
  {
   "cell_type": "code",
   "execution_count": null,
   "id": "667aff87",
   "metadata": {},
   "outputs": [],
   "source": [
    "scores = cross_val_score(lin_reg,X_train,y_train,scoring='neg_mean_squared_error',cv=5)\n",
    "print(np.sqrt(-scores))\n",
    "print(scores.mean())\n",
    "print(scores.std())"
   ]
  },
  {
   "cell_type": "code",
   "execution_count": null,
   "id": "52f8be35",
   "metadata": {},
   "outputs": [],
   "source": [
    "model_name= ['LinearRegression','Lasso','Ridge','SVR','RandomForest','KNN']\n",
    "MAE = [lin_mae,lasso_mae,ridge_mae,svr_mae,rfr_mae,knr_mae]\n",
    "R2Score = [lin_r2,lasso_r2,ridge_r2,svr_r2,rfr_r2,knr_r2]"
   ]
  },
  {
   "cell_type": "code",
   "execution_count": null,
   "id": "b8d4ab46",
   "metadata": {},
   "outputs": [],
   "source": [
    "results = pd.DataFrame({'model_name':model_name,'MAE':MAE,'R2Score':R2Score})"
   ]
  },
  {
   "cell_type": "code",
   "execution_count": null,
   "id": "1c7dabd3",
   "metadata": {},
   "outputs": [],
   "source": [
    "results.sort_values(['R2Score'],ascending=False)"
   ]
  },
  {
   "cell_type": "markdown",
   "id": "951a4805",
   "metadata": {},
   "source": [
    "### **Accuracy score Results Summary**\n",
    "\n",
    "| Models     | Accuracy score  |\n",
    "| ----------- | ----------- |\n",
    "| Random Forest Regressor     | 98.18 % |\n",
    "| Linear Regression  | 97.00 % |\n",
    "| Ridge Regression  | 96.90 % |\n",
    "| K Neighbors Regressor  | 94.22 %|\n",
    "| Lasso Regression  | 93.77 % |\n",
    "| Support Vector Regressor     | 93.40 % |"
   ]
  },
  {
   "cell_type": "markdown",
   "id": "94905c28",
   "metadata": {},
   "source": [
    "### Linear Regression is second best accurate as per score best is RandomForestRegressor\n",
    "## RandomForest Regression Selecting for Evaluating"
   ]
  },
  {
   "cell_type": "markdown",
   "id": "712b9056",
   "metadata": {},
   "source": [
    "# Hyper parameter Tunig - Model tuning"
   ]
  },
  {
   "cell_type": "code",
   "execution_count": null,
   "id": "5cc741ad",
   "metadata": {},
   "outputs": [],
   "source": [
    "from sklearn.model_selection import RandomizedSearchCV, GridSearchCV\n",
    "from sklearn.pipeline import Pipeline, make_pipeline\n",
    "\n",
    "from sklearn.preprocessing import OneHotEncoder,PowerTransformer, StandardScaler, MinMaxScaler\n",
    "from sklearn.compose import ColumnTransformer"
   ]
  },
  {
   "cell_type": "code",
   "execution_count": null,
   "id": "628ad9bc",
   "metadata": {},
   "outputs": [],
   "source": [
    "lin_reg.get_params().keys()"
   ]
  },
  {
   "cell_type": "code",
   "execution_count": null,
   "id": "87107a5b",
   "metadata": {},
   "outputs": [],
   "source": [
    "param_grid = [{'n_estimators':[3,10,30], 'max_features':[2,4,6,8]},\n",
    "             {'bootstrap':[False],'n_estimators':[3,10], 'max_features':[2,3,4]},]\n",
    "\n",
    "grid_cv = GridSearchCV(rfr, param_grid, cv=5, scoring ='neg_mean_squared_error', return_train_score=True)\n",
    "\n",
    "grid_cv.fit(X_train_scaled,y_train)"
   ]
  },
  {
   "cell_type": "code",
   "execution_count": null,
   "id": "bd6e17af",
   "metadata": {},
   "outputs": [],
   "source": [
    "param_grid =[{'bootstrap': [True, False],\n",
    "'max_depth': [10, 20, 30, 40, 50, 60, 70, 80, 90, 100, 110,120],\n",
    "'max_features': ['auto', 'sqrt'],\n",
    "'min_samples_leaf': [1, 3, 4],\n",
    "'min_samples_split': [2, 6, 10],\n",
    "'n_estimators': [5, 20, 50, 100]}]\n",
    "\n",
    "f_reg = RandomForestRegressor()\n",
    "Random_rf = RandomizedSearchCV(rfr,param_grid, cv = 10, verbose=2,n_jobs = -1)\n",
    "Random_rf.fit(X_train_scaled, y_train)"
   ]
  },
  {
   "cell_type": "code",
   "execution_count": null,
   "id": "2f8215ab",
   "metadata": {},
   "outputs": [],
   "source": [
    "print(grid_cv.best_params_)\n",
    "print(grid_cv.best_estimator_)\n"
   ]
  },
  {
   "cell_type": "code",
   "execution_count": null,
   "id": "b5cf3ecf",
   "metadata": {},
   "outputs": [],
   "source": [
    "print('best_param',Random_rf.best_params_)\n",
    "print('Best estimator',Random_rf.best_estimator_)\n",
    "best_random_grid = Random_rf.best_estimator_\n",
    "\n",
    "bestrf_pred = best_random_grid.predict(X_test_scaled)\n",
    "mae = mean_absolute_error(y_test, bestrf_pred)\n",
    "r2 = r2_score(y_test, bestrf_pred)"
   ]
  },
  {
   "cell_type": "code",
   "execution_count": null,
   "id": "6f14d250",
   "metadata": {
    "scrolled": true
   },
   "outputs": [],
   "source": [
    "pd.DataFrame(grid_cv.cv_results_)"
   ]
  },
  {
   "cell_type": "code",
   "execution_count": null,
   "id": "79e41adc",
   "metadata": {},
   "outputs": [],
   "source": [
    "featur_importance = grid_cv.best_estimator_.feature_importances_\n",
    "featur_imp_2 = Random_rf.best_estimator_.feature_importances_"
   ]
  },
  {
   "cell_type": "code",
   "execution_count": null,
   "id": "255b3a0e",
   "metadata": {},
   "outputs": [],
   "source": [
    "sorted(zip(featur_importance,X_train.columns.tolist()),reverse=True)"
   ]
  },
  {
   "cell_type": "code",
   "execution_count": null,
   "id": "16fbfff7",
   "metadata": {},
   "outputs": [],
   "source": [
    "sorted(zip(featur_imp_2,X_train.columns.tolist()),reverse=True)"
   ]
  },
  {
   "cell_type": "code",
   "execution_count": null,
   "id": "abcb2b23",
   "metadata": {},
   "outputs": [],
   "source": [
    "len(grid_cv.best_estimator_.feature_importances_)\n",
    "print(X_train_scaled.shape)"
   ]
  },
  {
   "cell_type": "markdown",
   "id": "9f69ff59",
   "metadata": {},
   "source": [
    "### Trunig Ridge Regression - Hyper parameter tuning"
   ]
  },
  {
   "cell_type": "code",
   "execution_count": null,
   "id": "414f08d7",
   "metadata": {},
   "outputs": [],
   "source": [
    "from sklearn.exceptions import FitFailedWarning, ConvergenceWarning\n",
    "import warnings\n",
    "warnings.filterwarnings(action = 'ignore')\n",
    "\n",
    "ridge_params = [{'alpha':(np.logspace(-11,11,100)),\n",
    "                'solver':['auto','svd','cholesky','lsqr', 'sparse_cg', 'sag', 'saga', 'lbfgs']}]\n",
    "ridge = Ridge()\n",
    "random_ridge = RandomizedSearchCV(ridge,ridge_params,cv=10,n_jobs = -1)\n",
    "random_ridge.fit(X_train_scaled,y_train)"
   ]
  },
  {
   "cell_type": "code",
   "execution_count": null,
   "id": "bc9cc19e",
   "metadata": {},
   "outputs": [],
   "source": [
    "best_ridge = random_ridge.best_estimator_\n",
    "\n",
    "rbest_pred = best_ridge.predict(X_test_scaled)\n",
    "mae = mean_absolute_error(y_test,rbest_pred)\n",
    "r2 = r2_score(y_test,rbest_pred)\n"
   ]
  },
  {
   "cell_type": "code",
   "execution_count": null,
   "id": "786e4891",
   "metadata": {},
   "outputs": [],
   "source": [
    "feature_importance = Random_rf.best_estimator_.feature_importances_\n",
    "imp_df = pd.DataFrame({'feature':X_train.columns,\n",
    "                       'importance':feature_importance}).sort_values('importance',ascending=False)\n",
    "imp_df"
   ]
  },
  {
   "cell_type": "code",
   "execution_count": null,
   "id": "2b5d1919",
   "metadata": {},
   "outputs": [],
   "source": [
    "plt.figure(figsize=(12,6))\n",
    "sns.set_style('ticks')\n",
    "\n",
    "ax = sns.barplot(data=imp_df,x='importance',y='feature',ec='black')\n"
   ]
  },
  {
   "cell_type": "code",
   "execution_count": null,
   "id": "cb7c968c",
   "metadata": {},
   "outputs": [],
   "source": [
    "drop_feature = ['Rain','Region','RH']\n",
    "X_train_final = X_train.drop(drop_feature, axis=1)\n",
    "X_test_final = X_test.drop(drop_feature, axis=1)"
   ]
  },
  {
   "cell_type": "code",
   "execution_count": null,
   "id": "49fbd269",
   "metadata": {},
   "outputs": [],
   "source": [
    "X_train_final.columns"
   ]
  },
  {
   "cell_type": "code",
   "execution_count": null,
   "id": "b7e96ff5",
   "metadata": {},
   "outputs": [],
   "source": [
    "X_train_final_scaled,X_test_final_scaled =  scaler_standard(X_train_final,X_test_final)"
   ]
  },
  {
   "cell_type": "code",
   "execution_count": null,
   "id": "a3a9ee03",
   "metadata": {},
   "outputs": [],
   "source": [
    "best_random_grid.fit(X_train_final_scaled,y_train)\n",
    "best_rf_pred = best_random_grid.predict(X_test_final_scaled)\n",
    "mae= mean_absolute_error(y_test, best_rf_pred)\n",
    "r2 = r2_score(y_test, best_rf_pred)"
   ]
  },
  {
   "cell_type": "code",
   "execution_count": null,
   "id": "c58ae7b6",
   "metadata": {},
   "outputs": [],
   "source": [
    "import bz2,pickle\n",
    "file = bz2.BZ2File('regression_rfr.pkl','wb')\n",
    "pickle.dump(best_random_grid,file)\n",
    "file.close()"
   ]
  },
  {
   "cell_type": "markdown",
   "id": "d3fb949b",
   "metadata": {},
   "source": [
    "# Classifications"
   ]
  },
  {
   "cell_type": "markdown",
   "id": "424c03ad",
   "metadata": {},
   "source": [
    "GridSearchCV(\n",
    "    estimator,\n",
    "    param_grid,\n",
    "    scoring=None,\n",
    "    n_jobs=None,\n",
    "    refit=True,\n",
    "    cv=None,\n",
    "    verbose=0,\n",
    "    pre_dispatch='2*n_jobs',\n",
    "    error_score=nan,\n",
    "    return_train_score=False,\n",
    ")"
   ]
  },
  {
   "cell_type": "markdown",
   "id": "33893150",
   "metadata": {},
   "source": [
    "RandomizedSearchCV()\n",
    "\n",
    "RandomizedSearchCV(\n",
    "    estimator,\n",
    "    param_distributions,\n",
    "    n_iter=10,\n",
    "    scoring=None,\n",
    "    n_jobs=None,\n",
    "    refit=True,\n",
    "    cv=None,\n",
    "    verbose=0,\n",
    "    pre_dispatch='2*n_jobs',\n",
    "    random_state=None,\n",
    "    error_score=nan,\n",
    "    return_train_score=False,\n",
    ")"
   ]
  },
  {
   "cell_type": "markdown",
   "id": "7cc1971d",
   "metadata": {},
   "source": [
    "GridSearchCV()\n",
    "\n",
    "GridSearchCV(\n",
    "    estimator,\n",
    "    param_grid,\n",
    "    scoring=None,\n",
    "    n_jobs=None,\n",
    "    refit=True,\n",
    "    cv=None,\n",
    "    verbose=0,\n",
    "    pre_dispatch='2*n_jobs',\n",
    "    error_score=nan,\n",
    "    return_train_score=False,\n",
    ")"
   ]
  },
  {
   "cell_type": "markdown",
   "id": "69842ed7",
   "metadata": {},
   "source": [
    "Pipeline()\n",
    "\n",
    "Pipeline(steps, memory=None, verbose=False)\n",
    "Pipeline(steps=[('scaler', StandardScaler()), ('svc', SVC())])"
   ]
  },
  {
   "cell_type": "markdown",
   "id": "5e00c0bd",
   "metadata": {},
   "source": [
    "PowerTransformer()\n",
    "PowerTransformer(method='yeo-johnson', *, standardize=True, copy=True)\n",
    "\n",
    "pt = PowerTransformer()\n",
    "data = [[1, 2], [3, 2], [4, 5]]\n",
    "print(pt.fit(data))"
   ]
  },
  {
   "cell_type": "markdown",
   "id": "b073575e",
   "metadata": {},
   "source": [
    "ColumnTransformer()\n",
    "\n",
    "ColumnTransformer(\n",
    "    transformers,\n",
    "    remainder='drop',\n",
    "    sparse_threshold=0.3,\n",
    "    n_jobs=None,\n",
    "    transformer_weights=None,\n",
    "    verbose=False,\n",
    ")\n",
    "\n",
    "from sklearn.compose import ColumnTransformer\n",
    "from sklearn.preprocessing import Normalizer\n",
    "\n",
    "ct = ColumnTransformer(\n",
    "     [(\"norm1\", Normalizer(norm='l1'), [0, 1]),\n",
    "      (\"norm2\", Normalizer(norm='l1'), slice(2, 4))])\n",
    "\n",
    "X = np.array([[0., 1., 2., 2.],\n",
    "              [1., 1., 0., 1.]])\n",
    "\n",
    "ct.fit_transform(X)\n",
    "array([[0. , 1. , 0.5, 0.5],\n",
    "       [0.5, 0.5, 0. , 1. ]])"
   ]
  },
  {
   "cell_type": "markdown",
   "id": "88e2b67a",
   "metadata": {},
   "source": [
    "# Model Selection for Classifications"
   ]
  },
  {
   "cell_type": "code",
   "execution_count": null,
   "id": "c6d98973",
   "metadata": {},
   "outputs": [],
   "source": [
    "X.columns"
   ]
  },
  {
   "cell_type": "code",
   "execution_count": null,
   "id": "7a907316",
   "metadata": {},
   "outputs": [],
   "source": [
    "X = df.drop('Classes',axis=1)\n",
    "y = df.Classes"
   ]
  },
  {
   "cell_type": "code",
   "execution_count": null,
   "id": "3ab7cac4",
   "metadata": {},
   "outputs": [],
   "source": [
    "X_train,X_test,y_train,y_test = train_test_split(X,y,test_size=0.3,random_state=36)"
   ]
  },
  {
   "cell_type": "code",
   "execution_count": null,
   "id": "2bc7bc5a",
   "metadata": {},
   "outputs": [],
   "source": [
    "X_train.shape,X_test.shape"
   ]
  },
  {
   "cell_type": "code",
   "execution_count": null,
   "id": "5d30f75d",
   "metadata": {},
   "outputs": [],
   "source": [
    "cor = X_train.corr()\n",
    "plt.figure(figsize=(12,10))\n",
    "sns.heatmap(cor, annot=True)\n",
    "plt.show()"
   ]
  },
  {
   "cell_type": "code",
   "execution_count": null,
   "id": "80e0dd4d",
   "metadata": {},
   "outputs": [],
   "source": [
    "corr_featur =correlation(X_train, 0.75)"
   ]
  },
  {
   "cell_type": "code",
   "execution_count": null,
   "id": "1bb837c3",
   "metadata": {},
   "outputs": [],
   "source": [
    "corr_featur"
   ]
  },
  {
   "cell_type": "code",
   "execution_count": null,
   "id": "39831aec",
   "metadata": {},
   "outputs": [],
   "source": [
    "X_train.drop(corr_featur,axis=1,inplace=True)\n",
    "X_test.drop(corr_featur,axis=1,inplace = True)"
   ]
  },
  {
   "cell_type": "code",
   "execution_count": null,
   "id": "b1a5bf78",
   "metadata": {},
   "outputs": [],
   "source": [
    "X_train.shape,X_test.shape"
   ]
  },
  {
   "cell_type": "code",
   "execution_count": null,
   "id": "3baf8382",
   "metadata": {},
   "outputs": [],
   "source": [
    "s = StandardScaler()\n",
    "X_train_scaled = s.fit_transform(X_train)\n",
    "X_test_scaled = s.transform(X_test)"
   ]
  },
  {
   "cell_type": "markdown",
   "id": "8ff6950c",
   "metadata": {},
   "source": [
    "### Logistic Regression"
   ]
  },
  {
   "cell_type": "code",
   "execution_count": null,
   "id": "34d8e2d6",
   "metadata": {},
   "outputs": [],
   "source": [
    "from sklearn.metrics import confusion_matrix,ConfusionMatrixDisplay,accuracy_score,classification_report,f1_score,jaccard_score,log_loss                         "
   ]
  },
  {
   "cell_type": "code",
   "execution_count": null,
   "id": "b09c6bea",
   "metadata": {},
   "outputs": [],
   "source": [
    "from sklearn.linear_model import LogisticRegression\n",
    "\n",
    "lgr = LogisticRegression(max_iter=200)\n",
    "lgr.fit(X_train_scaled,y_train)\n",
    "lgr_pred = lgr.predict(X_test_scaled)"
   ]
  },
  {
   "cell_type": "code",
   "execution_count": null,
   "id": "ded32650",
   "metadata": {},
   "outputs": [],
   "source": [
    "lgr_prob= lgr.predict_proba(X_test_scaled)"
   ]
  },
  {
   "cell_type": "code",
   "execution_count": null,
   "id": "5026cb5e",
   "metadata": {},
   "outputs": [],
   "source": [
    "cm = confusion_matrix(y_test, lgr_pred, labels=lgr.classes_)\n",
    "dist = ConfusionMatrixDisplay(cm,lgr.classes_)\n",
    "\n",
    "dist.plot()\n",
    "plt.title('Confusion Matrix')\n",
    "plt.xlabel('Predicted results')\n",
    "plt.ylabel('Actual Results')\n",
    "plt.show()"
   ]
  },
  {
   "cell_type": "code",
   "execution_count": null,
   "id": "471dd1c3",
   "metadata": {},
   "outputs": [],
   "source": [
    "print(classification_report(y_test,lgr_pred))"
   ]
  },
  {
   "cell_type": "markdown",
   "id": "be7ad81b",
   "metadata": {},
   "source": [
    "### Decision Tree -Classifier"
   ]
  },
  {
   "cell_type": "code",
   "execution_count": null,
   "id": "fd8676b3",
   "metadata": {},
   "outputs": [],
   "source": [
    "from sklearn.tree import DecisionTreeClassifier\n",
    "\n",
    "dtc = DecisionTreeClassifier()\n",
    "dtc.fit(X_train_scaled,y_train)\n",
    "dtc_pred = dtc.predict(X_test_scaled)\n"
   ]
  },
  {
   "cell_type": "code",
   "execution_count": null,
   "id": "4b2d56ee",
   "metadata": {},
   "outputs": [],
   "source": [
    "dtc_prob= dtc.predict_proba(X_test_scaled)"
   ]
  },
  {
   "cell_type": "code",
   "execution_count": null,
   "id": "8dfdd766",
   "metadata": {},
   "outputs": [],
   "source": [
    "cm = confusion_matrix(y_test, dtc_pred, labels=dtc.classes_)\n",
    "dist = ConfusionMatrixDisplay(cm,dtc.classes_)\n",
    "\n",
    "dist.plot()\n",
    "plt.title('Confusion Matrix')\n",
    "plt.xlabel('Predicted results')\n",
    "plt.ylabel('Actual Results')\n",
    "plt.show()"
   ]
  },
  {
   "cell_type": "code",
   "execution_count": null,
   "id": "50e7f228",
   "metadata": {},
   "outputs": [],
   "source": [
    "print(classification_report(y_test,dtc_pred))"
   ]
  },
  {
   "cell_type": "markdown",
   "id": "5c6abb12",
   "metadata": {},
   "source": [
    "### Random Forest -Classifier"
   ]
  },
  {
   "cell_type": "code",
   "execution_count": null,
   "id": "fda57ac9",
   "metadata": {},
   "outputs": [],
   "source": [
    "from sklearn.ensemble import RandomForestClassifier\n",
    "\n",
    "rfc = RandomForestClassifier()\n",
    "rfc.fit(X_train_scaled,y_train)\n",
    "rfc_pred = rfc.predict(X_test_scaled)"
   ]
  },
  {
   "cell_type": "code",
   "execution_count": null,
   "id": "438fa7e6",
   "metadata": {},
   "outputs": [],
   "source": [
    "rfc_prob= rfc.predict_proba(X_test_scaled)"
   ]
  },
  {
   "cell_type": "code",
   "execution_count": null,
   "id": "f8015b84",
   "metadata": {},
   "outputs": [],
   "source": [
    "cm = confusion_matrix(y_test, rfc_pred, labels=rfc.classes_)\n",
    "dist = ConfusionMatrixDisplay(cm,rfc.classes_)\n",
    "\n",
    "dist.plot()\n",
    "plt.title('Confusion Matrix')\n",
    "plt.xlabel('Predicted results')\n",
    "plt.ylabel('Actual Results')\n",
    "plt.show()"
   ]
  },
  {
   "cell_type": "code",
   "execution_count": null,
   "id": "83e24a54",
   "metadata": {},
   "outputs": [],
   "source": [
    "print(classification_report(y_test,rfc_pred))"
   ]
  },
  {
   "cell_type": "markdown",
   "id": "593ab528",
   "metadata": {},
   "source": [
    "### KNN -Classifier"
   ]
  },
  {
   "cell_type": "code",
   "execution_count": null,
   "id": "b19d53f9",
   "metadata": {},
   "outputs": [],
   "source": [
    "from sklearn.neighbors import KNeighborsClassifier\n",
    "\n",
    "knc = KNeighborsClassifier()\n",
    "knc.fit(X_train_scaled,y_train)\n",
    "knc_pred = knc.predict(X_test_scaled)"
   ]
  },
  {
   "cell_type": "code",
   "execution_count": null,
   "id": "422eabe1",
   "metadata": {},
   "outputs": [],
   "source": [
    "knc_prob= knc.predict_proba(X_test_scaled)"
   ]
  },
  {
   "cell_type": "code",
   "execution_count": null,
   "id": "c13b165e",
   "metadata": {},
   "outputs": [],
   "source": [
    "cm = confusion_matrix(y_test, knc_pred, labels=knc.classes_)\n",
    "dist = ConfusionMatrixDisplay(cm,knc.classes_)\n",
    "\n",
    "dist.plot()\n",
    "plt.title('Confusion Matrix')\n",
    "plt.xlabel('Predicted results')\n",
    "plt.ylabel('Actual Results')\n",
    "plt.show()"
   ]
  },
  {
   "cell_type": "code",
   "execution_count": null,
   "id": "cd7c6b64",
   "metadata": {},
   "outputs": [],
   "source": [
    "print(classification_report(y_test,knc_pred))"
   ]
  },
  {
   "cell_type": "markdown",
   "id": "2fc3a69b",
   "metadata": {},
   "source": [
    "### XGboost -Classifier"
   ]
  },
  {
   "cell_type": "code",
   "execution_count": null,
   "id": "6d134a4f",
   "metadata": {},
   "outputs": [],
   "source": [
    "#!pip install xgboost\n",
    "# !conda install -c conda-forge xgboost"
   ]
  },
  {
   "cell_type": "code",
   "execution_count": null,
   "id": "5518a70b",
   "metadata": {},
   "outputs": [],
   "source": [
    "import xgboost\n",
    "from xgboost import XGBClassifier\n",
    "\n",
    "xgb = XGBClassifier()\n",
    "xgb.fit(X_train_scaled,y_train)\n",
    "xgb_pred = xgb.predict(X_test_scaled)"
   ]
  },
  {
   "cell_type": "code",
   "execution_count": null,
   "id": "285e30e4",
   "metadata": {},
   "outputs": [],
   "source": [
    "xgb_prob= xgb.predict_proba(X_test_scaled)"
   ]
  },
  {
   "cell_type": "code",
   "execution_count": null,
   "id": "09a45265",
   "metadata": {},
   "outputs": [],
   "source": [
    "cm = confusion_matrix(y_test, xgb_pred, labels=xgb.classes_)\n",
    "dist = ConfusionMatrixDisplay(cm,xgb.classes_)\n",
    "\n",
    "dist.plot()\n",
    "plt.title('Confusion Matrix')\n",
    "plt.xlabel('Predicted results')\n",
    "plt.ylabel('Actual Results')\n",
    "plt.show()"
   ]
  },
  {
   "cell_type": "code",
   "execution_count": null,
   "id": "551096a3",
   "metadata": {},
   "outputs": [],
   "source": [
    "print(classification_report(y_test,xgb_pred))"
   ]
  },
  {
   "cell_type": "code",
   "execution_count": null,
   "id": "029e52f0",
   "metadata": {},
   "outputs": [],
   "source": [
    "metrics = [accuracy_score,f1_score,jaccard_score,log_loss]\n",
    "pred_name =['lgr_pred','dtc_pred','rfc_pred','knc_pred','xgb_pred']\n",
    "pred_value = [lgr_pred,dtc_pred,rfc_pred,knc_pred,xgb_pred]\n",
    "pred_dict = {i:i for i in pred_name}\n",
    "pred_prob = [lgr_prob,dtc_prob,rfc_prob,knc_prob,xgb_prob]"
   ]
  },
  {
   "cell_type": "code",
   "execution_count": null,
   "id": "8f5d7a75",
   "metadata": {},
   "outputs": [],
   "source": [
    "all_pred = zip(pred_name,pred_value)\n",
    "\n",
    "accu_dict = {}\n",
    "accu_list = []\n",
    "f1_dict = {}\n",
    "f1_list = []\n",
    "jaccard_dict = {}\n",
    "jaccard_list = []\n",
    "logloss_dict = {}\n",
    "logloss_list = []\n",
    "\n",
    "for i in all_pred:\n",
    "    accu_dict[i[0]] = accuracy_score(y_test,i[1])\n",
    "    accu_list.append(accuracy_score(y_test,i[1]))\n",
    "    f1_dict[i[0]] = f1_score(y_test,i[1])\n",
    "    f1_list.append(f1_score(y_test,i[1]))\n",
    "    jaccard_dict[i[0]] = jaccard_score(y_test,i[1])\n",
    "    jaccard_list.append(jaccard_score(y_test,i[1]))\n",
    "    logloss_dict[i[0]] = log_loss(y_test,i[1])\n",
    "    logloss_list.append(log_loss(y_test,i[1]))"
   ]
  },
  {
   "cell_type": "code",
   "execution_count": null,
   "id": "c3ea3e1d",
   "metadata": {},
   "outputs": [],
   "source": [
    "idx = ['LogisticRegression','DecisionTree','RandomForestClassifier','K-NNClassifier','XGBClassifier']"
   ]
  },
  {
   "cell_type": "code",
   "execution_count": null,
   "id": "8a348695",
   "metadata": {},
   "outputs": [],
   "source": [
    "results_df = pd.DataFrame({'Accuracy_score':accu_list,'F1_score':f1_list, 'Jaccard_score':jaccard_list,'log_loss':logloss_list},index=idx)"
   ]
  },
  {
   "cell_type": "code",
   "execution_count": null,
   "id": "692d5f11",
   "metadata": {},
   "outputs": [],
   "source": [
    "results_df.sort_values(['Accuracy_score'],ascending=False)"
   ]
  },
  {
   "cell_type": "code",
   "execution_count": null,
   "id": "8bc1a60d",
   "metadata": {},
   "outputs": [],
   "source": []
  },
  {
   "cell_type": "markdown",
   "id": "662216ab",
   "metadata": {},
   "source": [
    "## Hyper parameter Tuning - Model tuning"
   ]
  },
  {
   "cell_type": "markdown",
   "id": "04b05c07",
   "metadata": {},
   "source": [
    "### XGBoost Classfier - Tuning"
   ]
  },
  {
   "cell_type": "code",
   "execution_count": null,
   "id": "e092761b",
   "metadata": {},
   "outputs": [],
   "source": [
    "params ={\n",
    "    'learning_rate' : (np.linspace(0,10,100)),\n",
    "    'max_depth' : (np.linspace(1,50,25,dtype =int)),\n",
    "    'min_child_weight' : [1, 3, 5, 7],\n",
    "    'gamma' : [0.0, 0.1, 0.2, 0.3, 0.4],\n",
    "    'colsample_bytree' :[0.3, 0.4, 0.5, 0.7]\n",
    "}\n",
    "Random_xgb = RandomizedSearchCV(xgb,params,cv=10,n_jobs=-1)\n",
    "Random_xgb.fit(X_train_scaled,y_train).best_estimator_"
   ]
  },
  {
   "cell_type": "code",
   "execution_count": null,
   "id": "3ab9170d",
   "metadata": {},
   "outputs": [],
   "source": [
    "best_xgb = Random_xgb.best_estimator_\n",
    "best_xgb.score(X_test_scaled,y_test)\n",
    "bestxgb_pred = best_xgb.predict(X_test_scaled)\n",
    "cr = classification_report(y_test,bestxgb_pred)\n",
    "print(cr)"
   ]
  },
  {
   "cell_type": "markdown",
   "id": "7204a1c3",
   "metadata": {},
   "source": [
    "### RandomForest Classfier - Tuning"
   ]
  },
  {
   "cell_type": "code",
   "execution_count": null,
   "id": "fdfebe74",
   "metadata": {},
   "outputs": [],
   "source": [
    "params = {\n",
    "    \"n_estimators\" : [90,100,115,130],\n",
    "    'criterion': ['gini', 'entropy'],\n",
    "    'max_depth' : range(2,20,1),\n",
    "    'min_samples_leaf' : range(1,10,1),\n",
    "    'min_samples_split': range(2,10,1),\n",
    "    'max_features' : ['auto','log2']\n",
    "}\n",
    "random_rf = RandomizedSearchCV(rfc, params, cv = 10,n_jobs = -1)\n",
    "random_rf.fit(X_train_scaled, y_train).best_estimator_"
   ]
  },
  {
   "cell_type": "code",
   "execution_count": null,
   "id": "540a91f6",
   "metadata": {},
   "outputs": [],
   "source": [
    "best_rf = random_rf.best_estimator_\n",
    "\n",
    "best_rf.score(X_test_scaled,y_test)\n",
    "bestrf_pred = best_rf.predict(X_test_scaled)\n",
    "\n",
    "cr = classification_report(y_test,bestrf_pred)\n",
    "print(\"FINAL Random Forest\")\n",
    "print (cr)"
   ]
  },
  {
   "cell_type": "markdown",
   "id": "f8c8a7b6",
   "metadata": {},
   "source": [
    "### Applying Stratified KFold Cros-Validation to know exact mean CV Accuracy for all models"
   ]
  },
  {
   "cell_type": "code",
   "execution_count": null,
   "id": "4f1d3043",
   "metadata": {},
   "outputs": [],
   "source": [
    "from sklearn.model_selection import StratifiedKFold, cross_val_score\n",
    "skfold = StratifiedKFold(n_splits=10,shuffle=True, random_state=36)"
   ]
  },
  {
   "cell_type": "code",
   "execution_count": null,
   "id": "174d4a6f",
   "metadata": {},
   "outputs": [],
   "source": [
    "model = [best_xgb, rfc, dtc, knc, lgr]\n",
    "name = ['Best_XGB','RandomForest','DecisionTree','KNN','Logistic']"
   ]
  },
  {
   "cell_type": "code",
   "execution_count": null,
   "id": "0ae29dc6",
   "metadata": {},
   "outputs": [],
   "source": [
    "final_list = list(zip(model,name))"
   ]
  },
  {
   "cell_type": "code",
   "execution_count": null,
   "id": "9bda83d8",
   "metadata": {},
   "outputs": [],
   "source": [
    "all_cv = {}\n",
    "for i in final_list:\n",
    "    all_cv[i[1]]=round(cross_val_score(i[0],X,y,cv=skfold,scoring='accuracy').mean(),4)"
   ]
  },
  {
   "cell_type": "code",
   "execution_count": null,
   "id": "60d79218",
   "metadata": {},
   "outputs": [],
   "source": [
    "all_cv"
   ]
  },
  {
   "cell_type": "code",
   "execution_count": null,
   "id": "d11880df",
   "metadata": {},
   "outputs": [],
   "source": [
    "df = pd.DataFrame({'score':[i for i in all_cv.values()]},index=[i for i in all_cv.keys()])"
   ]
  },
  {
   "cell_type": "code",
   "execution_count": null,
   "id": "75dac820",
   "metadata": {},
   "outputs": [],
   "source": [
    "df.sort_values('score',ascending=False)"
   ]
  },
  {
   "cell_type": "markdown",
   "id": "2f772111",
   "metadata": {},
   "source": [
    "### Feature Selections for model Deployment"
   ]
  },
  {
   "cell_type": "code",
   "execution_count": null,
   "id": "c7664f0f",
   "metadata": {},
   "outputs": [],
   "source": [
    "feature_importances = Random_xgb.best_estimator_.feature_importances_"
   ]
  },
  {
   "cell_type": "code",
   "execution_count": null,
   "id": "36850a46",
   "metadata": {},
   "outputs": [],
   "source": [
    "importances_df = pd.DataFrame({\n",
    "    'feature':X_train.columns,\n",
    "    'importance':feature_importances,\n",
    "}).sort_values('importance',ascending=True)\n",
    "importances_df"
   ]
  },
  {
   "cell_type": "code",
   "execution_count": null,
   "id": "bb440e5e",
   "metadata": {},
   "outputs": [],
   "source": [
    "plt.figure(figsize=(12,6))\n",
    "sns.set_style('ticks')\n",
    "ax = sns.barplot(data=importances_df,x='importance',y='feature')\n",
    "ax.set_xlabel(\"Feature imp\",weight='bold')\n",
    "ax.set_ylabel('Feature',weight='bold')"
   ]
  },
  {
   "cell_type": "markdown",
   "id": "46ac45b1",
   "metadata": {},
   "source": [
    "## Model_Deployment"
   ]
  },
  {
   "cell_type": "code",
   "execution_count": null,
   "id": "6d8e94d9",
   "metadata": {},
   "outputs": [],
   "source": [
    "Xtrain_new = X_train.drop(['Rain', 'Region', 'RH'], axis=1)\n",
    "Xtest_new = X_test.drop(['Rain', 'Region', 'RH'], axis=1)"
   ]
  },
  {
   "cell_type": "code",
   "execution_count": null,
   "id": "74ee97c1",
   "metadata": {},
   "outputs": [],
   "source": [
    "Xtrain_new_scaled,Xtest_new_scaled = scaler_standard(Xtrain_new,Xtest_new)"
   ]
  },
  {
   "cell_type": "code",
   "execution_count": null,
   "id": "118a9aac",
   "metadata": {},
   "outputs": [],
   "source": [
    "xgb_model = Random_xgb.fit(Xtrain_new_scaled,y_train)\n",
    "xgb_model.score(Xtest_new_scaled,y_test)\n",
    "xgb_model_pred = xgb_model.predict(Xtest_new_scaled)\n",
    "cr = classification_report(y_test,xgb_model_pred)\n",
    "print(cr)"
   ]
  },
  {
   "cell_type": "code",
   "execution_count": null,
   "id": "3e610310",
   "metadata": {},
   "outputs": [],
   "source": [
    "import bz2,pickle\n",
    "file = bz2.BZ2File('classification.pkl','wb')\n",
    "pickle.dump(xgb_model,file)\n",
    "file.close()"
   ]
  },
  {
   "cell_type": "code",
   "execution_count": null,
   "id": "fc8ee730",
   "metadata": {},
   "outputs": [],
   "source": []
  }
 ],
 "metadata": {
  "kernelspec": {
   "display_name": "Python 3 (ipykernel)",
   "language": "python",
   "name": "python3"
  },
  "language_info": {
   "codemirror_mode": {
    "name": "ipython",
    "version": 3
   },
   "file_extension": ".py",
   "mimetype": "text/x-python",
   "name": "python",
   "nbconvert_exporter": "python",
   "pygments_lexer": "ipython3",
   "version": "3.9.7"
  }
 },
 "nbformat": 4,
 "nbformat_minor": 5
}

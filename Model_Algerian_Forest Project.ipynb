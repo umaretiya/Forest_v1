{
 "cells": [
  {
   "cell_type": "markdown",
   "id": "27e39da3",
   "metadata": {},
   "source": [
    "# Algerina_Forest_MahchineLearning_Project - Model"
   ]
  },
  {
   "cell_type": "markdown",
   "id": "f62c8e04",
   "metadata": {},
   "source": [
    "### 1 - Train_test_split\n",
    "### 2 - Scalling & Transforming\n",
    "### 3 - Training Model\n",
    "### 4 - Predicting a Model\n",
    "### 5 - Accuracy Score - different metrices\n",
    "### 6 - Evalluating a Best fit Model\n",
    "### 7 - Hyper paramer tuning - Mostly use [GridSearchCV,RandomizedSearchCV]\n",
    "### 8 - Best feature selecting\n",
    "### 9 - Deploying - MLOps......................"
   ]
  },
  {
   "cell_type": "markdown",
   "id": "7735f37b",
   "metadata": {},
   "source": [
    "## Data Processing"
   ]
  },
  {
   "cell_type": "code",
   "execution_count": 1,
   "id": "3b887350",
   "metadata": {},
   "outputs": [],
   "source": [
    "import pandas as pd\n",
    "import matplotlib.pyplot as plt\n",
    "import numpy as np\n",
    "import seaborn as sns\n",
    "%matplotlib inline"
   ]
  },
  {
   "cell_type": "code",
   "execution_count": 2,
   "id": "a48b0d9c",
   "metadata": {},
   "outputs": [],
   "source": [
    "import warnings\n",
    "warnings.filterwarnings(action='ignore')"
   ]
  },
  {
   "cell_type": "code",
   "execution_count": 115,
   "id": "ce9c0580",
   "metadata": {},
   "outputs": [],
   "source": [
    "df = pd.read_csv(\"Algerian_fires_data_Cleaned.csv\")"
   ]
  },
  {
   "cell_type": "code",
   "execution_count": 119,
   "id": "6ce1e3af",
   "metadata": {},
   "outputs": [
    {
     "name": "stdout",
     "output_type": "stream",
     "text": [
      "Index(['Temperature', 'Ws', 'FFMC', 'DMC', 'ISI', 'FWI', 'Classes'], dtype='object')\n",
      "Index(['Temperature', 'Ws', 'FFMC', 'DMC', 'ISI'], dtype='object')\n"
     ]
    }
   ],
   "source": [
    "df1 = df.drop(['day', 'month', 'year','Rain','Region','RH','DC','BUI'],axis=1)\n",
    "X = df1.drop(['FWI', 'Classes'], axis=1)\n",
    "print(df1.columns)\n",
    "print(X.columns)"
   ]
  },
  {
   "cell_type": "code",
   "execution_count": 116,
   "id": "5e0e9f44",
   "metadata": {},
   "outputs": [
    {
     "data": {
      "text/plain": [
       "Index(['day', 'month', 'year', 'Temperature', 'RH', 'Ws', 'Rain', 'FFMC',\n",
       "       'DMC', 'DC', 'ISI', 'BUI', 'FWI', 'Classes', 'Region'],\n",
       "      dtype='object')"
      ]
     },
     "execution_count": 116,
     "metadata": {},
     "output_type": "execute_result"
    }
   ],
   "source": [
    "df.columns"
   ]
  },
  {
   "cell_type": "code",
   "execution_count": 5,
   "id": "498326e0",
   "metadata": {},
   "outputs": [],
   "source": [
    "df.drop(['day', 'month', 'year'],axis=1,inplace=True)"
   ]
  },
  {
   "cell_type": "code",
   "execution_count": 6,
   "id": "4860a7f2",
   "metadata": {},
   "outputs": [],
   "source": [
    "df.Classes = np.where(df.Classes == 'not fire',0,1)"
   ]
  },
  {
   "cell_type": "code",
   "execution_count": 7,
   "id": "78622d0d",
   "metadata": {},
   "outputs": [
    {
     "data": {
      "text/plain": [
       "<AxesSubplot:xlabel='FWI', ylabel='Count'>"
      ]
     },
     "execution_count": 7,
     "metadata": {},
     "output_type": "execute_result"
    },
    {
     "data": {
      "image/png": "[encoded data removed]",
      "text/plain": [
       "<Figure size 432x288 with 1 Axes>"
      ]
     },
     "metadata": {
      "needs_background": "light"
     },
     "output_type": "display_data"
    }
   ],
   "source": [
    "g = df.groupby(['FWI'])['Classes']\n",
    "sns.histplot(x='FWI',hue='Classes',data=df)"
   ]
  },
  {
   "cell_type": "code",
   "execution_count": 8,
   "id": "8e028eea",
   "metadata": {},
   "outputs": [
    {
     "data": {
      "text/plain": [
       "Index(['Temperature', 'RH', 'Ws', 'Rain', 'FFMC', 'DMC', 'DC', 'ISI', 'BUI',\n",
       "       'FWI', 'Classes', 'Region'],\n",
       "      dtype='object')"
      ]
     },
     "execution_count": 8,
     "metadata": {},
     "output_type": "execute_result"
    }
   ],
   "source": [
    "df.columns"
   ]
  },
  {
   "cell_type": "markdown",
   "id": "e0b44d45",
   "metadata": {},
   "source": [
    "### Regression Task"
   ]
  },
  {
   "cell_type": "code",
   "execution_count": 9,
   "id": "f1a198eb",
   "metadata": {},
   "outputs": [],
   "source": [
    "from sklearn.preprocessing import StandardScaler\n",
    "from sklearn.model_selection import train_test_split,RandomizedSearchCV,GridSearchCV"
   ]
  },
  {
   "cell_type": "code",
   "execution_count": 10,
   "id": "766f4178",
   "metadata": {},
   "outputs": [
    {
     "data": {
      "text/plain": [
       "(243, 11)"
      ]
     },
     "execution_count": 10,
     "metadata": {},
     "output_type": "execute_result"
    }
   ],
   "source": [
    "X = df.drop('FWI',axis=1)\n",
    "y = df['FWI']\n",
    "X.shape"
   ]
  },
  {
   "cell_type": "code",
   "execution_count": 11,
   "id": "401e3071",
   "metadata": {},
   "outputs": [],
   "source": [
    "X_train,X_test,y_train,y_test = train_test_split(X,y,test_size=0.25,random_state=0)"
   ]
  },
  {
   "cell_type": "code",
   "execution_count": 12,
   "id": "4fe4a9ce",
   "metadata": {},
   "outputs": [
    {
     "data": {
      "text/plain": [
       "((182, 11), (61, 11))"
      ]
     },
     "execution_count": 12,
     "metadata": {},
     "output_type": "execute_result"
    }
   ],
   "source": [
    "X_train.shape,X_test.shape"
   ]
  },
  {
   "cell_type": "code",
   "execution_count": 13,
   "id": "0a254bf0",
   "metadata": {},
   "outputs": [
    {
     "data": {
      "text/html": [
       "<div>\n",
       "<style scoped>\n",
       "    .dataframe tbody tr th:only-of-type {\n",
       "        vertical-align: middle;\n",
       "    }\n",
       "\n",
       "    .dataframe tbody tr th {\n",
       "        vertical-align: top;\n",
       "    }\n",
       "\n",
       "    .dataframe thead th {\n",
       "        text-align: right;\n",
       "    }\n",
       "</style>\n",
       "<table border=\"1\" class=\"dataframe\">\n",
       "  <thead>\n",
       "    <tr style=\"text-align: right;\">\n",
       "      <th></th>\n",
       "      <th>Temperature</th>\n",
       "      <th>RH</th>\n",
       "      <th>Ws</th>\n",
       "      <th>Rain</th>\n",
       "      <th>FFMC</th>\n",
       "      <th>DMC</th>\n",
       "      <th>DC</th>\n",
       "      <th>ISI</th>\n",
       "      <th>BUI</th>\n",
       "      <th>Classes</th>\n",
       "      <th>Region</th>\n",
       "    </tr>\n",
       "  </thead>\n",
       "  <tbody>\n",
       "    <tr>\n",
       "      <th>Temperature</th>\n",
       "      <td>1.000000</td>\n",
       "      <td>-0.657325</td>\n",
       "      <td>-0.357016</td>\n",
       "      <td>-0.365941</td>\n",
       "      <td>0.684556</td>\n",
       "      <td>0.482965</td>\n",
       "      <td>0.349021</td>\n",
       "      <td>0.618172</td>\n",
       "      <td>0.447959</td>\n",
       "      <td>0.512299</td>\n",
       "      <td>0.296033</td>\n",
       "    </tr>\n",
       "    <tr>\n",
       "      <th>RH</th>\n",
       "      <td>-0.657325</td>\n",
       "      <td>1.000000</td>\n",
       "      <td>0.262581</td>\n",
       "      <td>0.275592</td>\n",
       "      <td>-0.653649</td>\n",
       "      <td>-0.393893</td>\n",
       "      <td>-0.203883</td>\n",
       "      <td>-0.712353</td>\n",
       "      <td>-0.333027</td>\n",
       "      <td>-0.446906</td>\n",
       "      <td>-0.427696</td>\n",
       "    </tr>\n",
       "    <tr>\n",
       "      <th>Ws</th>\n",
       "      <td>-0.357016</td>\n",
       "      <td>0.262581</td>\n",
       "      <td>1.000000</td>\n",
       "      <td>0.204035</td>\n",
       "      <td>-0.226129</td>\n",
       "      <td>-0.010158</td>\n",
       "      <td>0.079699</td>\n",
       "      <td>-0.018845</td>\n",
       "      <td>0.023680</td>\n",
       "      <td>-0.108246</td>\n",
       "      <td>-0.191245</td>\n",
       "    </tr>\n",
       "    <tr>\n",
       "      <th>Rain</th>\n",
       "      <td>-0.365941</td>\n",
       "      <td>0.275592</td>\n",
       "      <td>0.204035</td>\n",
       "      <td>1.000000</td>\n",
       "      <td>-0.589465</td>\n",
       "      <td>-0.300364</td>\n",
       "      <td>-0.302591</td>\n",
       "      <td>-0.347660</td>\n",
       "      <td>-0.308258</td>\n",
       "      <td>-0.393221</td>\n",
       "      <td>-0.086938</td>\n",
       "    </tr>\n",
       "    <tr>\n",
       "      <th>FFMC</th>\n",
       "      <td>0.684556</td>\n",
       "      <td>-0.653649</td>\n",
       "      <td>-0.226129</td>\n",
       "      <td>-0.589465</td>\n",
       "      <td>1.000000</td>\n",
       "      <td>0.621958</td>\n",
       "      <td>0.528275</td>\n",
       "      <td>0.742079</td>\n",
       "      <td>0.606527</td>\n",
       "      <td>0.773444</td>\n",
       "      <td>0.267099</td>\n",
       "    </tr>\n",
       "    <tr>\n",
       "      <th>DMC</th>\n",
       "      <td>0.482965</td>\n",
       "      <td>-0.393893</td>\n",
       "      <td>-0.010158</td>\n",
       "      <td>-0.300364</td>\n",
       "      <td>0.621958</td>\n",
       "      <td>1.000000</td>\n",
       "      <td>0.884417</td>\n",
       "      <td>0.680918</td>\n",
       "      <td>0.984222</td>\n",
       "      <td>0.629505</td>\n",
       "      <td>0.175711</td>\n",
       "    </tr>\n",
       "    <tr>\n",
       "      <th>DC</th>\n",
       "      <td>0.349021</td>\n",
       "      <td>-0.203883</td>\n",
       "      <td>0.079699</td>\n",
       "      <td>-0.302591</td>\n",
       "      <td>0.528275</td>\n",
       "      <td>0.884417</td>\n",
       "      <td>1.000000</td>\n",
       "      <td>0.501412</td>\n",
       "      <td>0.951157</td>\n",
       "      <td>0.562431</td>\n",
       "      <td>-0.080660</td>\n",
       "    </tr>\n",
       "    <tr>\n",
       "      <th>ISI</th>\n",
       "      <td>0.618172</td>\n",
       "      <td>-0.712353</td>\n",
       "      <td>-0.018845</td>\n",
       "      <td>-0.347660</td>\n",
       "      <td>0.742079</td>\n",
       "      <td>0.680918</td>\n",
       "      <td>0.501412</td>\n",
       "      <td>1.000000</td>\n",
       "      <td>0.632285</td>\n",
       "      <td>0.747764</td>\n",
       "      <td>0.312299</td>\n",
       "    </tr>\n",
       "    <tr>\n",
       "      <th>BUI</th>\n",
       "      <td>0.447959</td>\n",
       "      <td>-0.333027</td>\n",
       "      <td>0.023680</td>\n",
       "      <td>-0.308258</td>\n",
       "      <td>0.606527</td>\n",
       "      <td>0.984222</td>\n",
       "      <td>0.951157</td>\n",
       "      <td>0.632285</td>\n",
       "      <td>1.000000</td>\n",
       "      <td>0.624037</td>\n",
       "      <td>0.079373</td>\n",
       "    </tr>\n",
       "    <tr>\n",
       "      <th>Classes</th>\n",
       "      <td>0.512299</td>\n",
       "      <td>-0.446906</td>\n",
       "      <td>-0.108246</td>\n",
       "      <td>-0.393221</td>\n",
       "      <td>0.773444</td>\n",
       "      <td>0.629505</td>\n",
       "      <td>0.562431</td>\n",
       "      <td>0.747764</td>\n",
       "      <td>0.624037</td>\n",
       "      <td>1.000000</td>\n",
       "      <td>0.201988</td>\n",
       "    </tr>\n",
       "    <tr>\n",
       "      <th>Region</th>\n",
       "      <td>0.296033</td>\n",
       "      <td>-0.427696</td>\n",
       "      <td>-0.191245</td>\n",
       "      <td>-0.086938</td>\n",
       "      <td>0.267099</td>\n",
       "      <td>0.175711</td>\n",
       "      <td>-0.080660</td>\n",
       "      <td>0.312299</td>\n",
       "      <td>0.079373</td>\n",
       "      <td>0.201988</td>\n",
       "      <td>1.000000</td>\n",
       "    </tr>\n",
       "  </tbody>\n",
       "</table>\n",
       "</div>"
      ],
      "text/plain": [
       "             Temperature        RH        Ws      Rain      FFMC       DMC  \\\n",
       "Temperature     1.000000 -0.657325 -0.357016 -0.365941  0.684556  0.482965   \n",
       "RH             -0.657325  1.000000  0.262581  0.275592 -0.653649 -0.393893   \n",
       "Ws             -0.357016  0.262581  1.000000  0.204035 -0.226129 -0.010158   \n",
       "Rain           -0.365941  0.275592  0.204035  1.000000 -0.589465 -0.300364   \n",
       "FFMC            0.684556 -0.653649 -0.226129 -0.589465  1.000000  0.621958   \n",
       "DMC             0.482965 -0.393893 -0.010158 -0.300364  0.621958  1.000000   \n",
       "DC              0.349021 -0.203883  0.079699 -0.302591  0.528275  0.884417   \n",
       "ISI             0.618172 -0.712353 -0.018845 -0.347660  0.742079  0.680918   \n",
       "BUI             0.447959 -0.333027  0.023680 -0.308258  0.606527  0.984222   \n",
       "Classes         0.512299 -0.446906 -0.108246 -0.393221  0.773444  0.629505   \n",
       "Region          0.296033 -0.427696 -0.191245 -0.086938  0.267099  0.175711   \n",
       "\n",
       "                   DC       ISI       BUI   Classes    Region  \n",
       "Temperature  0.349021  0.618172  0.447959  0.512299  0.296033  \n",
       "RH          -0.203883 -0.712353 -0.333027 -0.446906 -0.427696  \n",
       "Ws           0.079699 -0.018845  0.023680 -0.108246 -0.191245  \n",
       "Rain        -0.302591 -0.347660 -0.308258 -0.393221 -0.086938  \n",
       "FFMC         0.528275  0.742079  0.606527  0.773444  0.267099  \n",
       "DMC          0.884417  0.680918  0.984222  0.629505  0.175711  \n",
       "DC           1.000000  0.501412  0.951157  0.562431 -0.080660  \n",
       "ISI          0.501412  1.000000  0.632285  0.747764  0.312299  \n",
       "BUI          0.951157  0.632285  1.000000  0.624037  0.079373  \n",
       "Classes      0.562431  0.747764  0.624037  1.000000  0.201988  \n",
       "Region      -0.080660  0.312299  0.079373  0.201988  1.000000  "
      ]
     },
     "execution_count": 13,
     "metadata": {},
     "output_type": "execute_result"
    }
   ],
   "source": [
    "X_train.corr()"
   ]
  },
  {
   "cell_type": "code",
   "execution_count": 14,
   "id": "b12f48d8",
   "metadata": {},
   "outputs": [
    {
     "data": {
      "image/png": "[encoded data removed]",
      "text/plain": [
       "<Figure size 1080x720 with 2 Axes>"
      ]
     },
     "metadata": {
      "needs_background": "light"
     },
     "output_type": "display_data"
    }
   ],
   "source": [
    "plt.figure(figsize=(15,10))\n",
    "cor = X_train.corr()\n",
    "sns.heatmap(cor,annot=True,cmap=plt.cm.CMRmap_r)\n",
    "plt.show()"
   ]
  },
  {
   "cell_type": "code",
   "execution_count": 15,
   "id": "a2ff841d",
   "metadata": {},
   "outputs": [],
   "source": [
    "def correlation(dataset, thresold):\n",
    "    col_corr = set()\n",
    "    corr_matrix = dataset.corr()\n",
    "    \n",
    "    for i in range(len(corr_matrix.columns)):\n",
    "        for j in range(i):\n",
    "            if abs(corr_matrix.iloc[i,j]) > thresold:\n",
    "                colname = corr_matrix.columns[i]\n",
    "                col_corr.add(colname)\n",
    "    return col_corr"
   ]
  },
  {
   "cell_type": "code",
   "execution_count": 16,
   "id": "fc10d997",
   "metadata": {},
   "outputs": [
    {
     "data": {
      "text/plain": [
       "{'BUI', 'Classes', 'DC'}"
      ]
     },
     "execution_count": 16,
     "metadata": {},
     "output_type": "execute_result"
    }
   ],
   "source": [
    "corr_feature = correlation(X_train, 0.75)\n",
    "corr_feature"
   ]
  },
  {
   "cell_type": "code",
   "execution_count": 17,
   "id": "efd555da",
   "metadata": {},
   "outputs": [
    {
     "data": {
      "text/html": [
       "<div>\n",
       "<style scoped>\n",
       "    .dataframe tbody tr th:only-of-type {\n",
       "        vertical-align: middle;\n",
       "    }\n",
       "\n",
       "    .dataframe tbody tr th {\n",
       "        vertical-align: top;\n",
       "    }\n",
       "\n",
       "    .dataframe thead th {\n",
       "        text-align: right;\n",
       "    }\n",
       "</style>\n",
       "<table border=\"1\" class=\"dataframe\">\n",
       "  <thead>\n",
       "    <tr style=\"text-align: right;\">\n",
       "      <th></th>\n",
       "      <th>Temperature</th>\n",
       "      <th>RH</th>\n",
       "      <th>Ws</th>\n",
       "      <th>Rain</th>\n",
       "      <th>FFMC</th>\n",
       "      <th>DMC</th>\n",
       "      <th>DC</th>\n",
       "      <th>ISI</th>\n",
       "      <th>BUI</th>\n",
       "      <th>Classes</th>\n",
       "      <th>Region</th>\n",
       "    </tr>\n",
       "  </thead>\n",
       "  <tbody>\n",
       "    <tr>\n",
       "      <th>Temperature</th>\n",
       "      <td>1.000000</td>\n",
       "      <td>-0.657325</td>\n",
       "      <td>-0.357016</td>\n",
       "      <td>-0.365941</td>\n",
       "      <td>0.684556</td>\n",
       "      <td>0.482965</td>\n",
       "      <td>0.349021</td>\n",
       "      <td>0.618172</td>\n",
       "      <td>0.447959</td>\n",
       "      <td>0.512299</td>\n",
       "      <td>0.296033</td>\n",
       "    </tr>\n",
       "    <tr>\n",
       "      <th>RH</th>\n",
       "      <td>-0.657325</td>\n",
       "      <td>1.000000</td>\n",
       "      <td>0.262581</td>\n",
       "      <td>0.275592</td>\n",
       "      <td>-0.653649</td>\n",
       "      <td>-0.393893</td>\n",
       "      <td>-0.203883</td>\n",
       "      <td>-0.712353</td>\n",
       "      <td>-0.333027</td>\n",
       "      <td>-0.446906</td>\n",
       "      <td>-0.427696</td>\n",
       "    </tr>\n",
       "    <tr>\n",
       "      <th>Ws</th>\n",
       "      <td>-0.357016</td>\n",
       "      <td>0.262581</td>\n",
       "      <td>1.000000</td>\n",
       "      <td>0.204035</td>\n",
       "      <td>-0.226129</td>\n",
       "      <td>-0.010158</td>\n",
       "      <td>0.079699</td>\n",
       "      <td>-0.018845</td>\n",
       "      <td>0.023680</td>\n",
       "      <td>-0.108246</td>\n",
       "      <td>-0.191245</td>\n",
       "    </tr>\n",
       "    <tr>\n",
       "      <th>Rain</th>\n",
       "      <td>-0.365941</td>\n",
       "      <td>0.275592</td>\n",
       "      <td>0.204035</td>\n",
       "      <td>1.000000</td>\n",
       "      <td>-0.589465</td>\n",
       "      <td>-0.300364</td>\n",
       "      <td>-0.302591</td>\n",
       "      <td>-0.347660</td>\n",
       "      <td>-0.308258</td>\n",
       "      <td>-0.393221</td>\n",
       "      <td>-0.086938</td>\n",
       "    </tr>\n",
       "    <tr>\n",
       "      <th>FFMC</th>\n",
       "      <td>0.684556</td>\n",
       "      <td>-0.653649</td>\n",
       "      <td>-0.226129</td>\n",
       "      <td>-0.589465</td>\n",
       "      <td>1.000000</td>\n",
       "      <td>0.621958</td>\n",
       "      <td>0.528275</td>\n",
       "      <td>0.742079</td>\n",
       "      <td>0.606527</td>\n",
       "      <td>0.773444</td>\n",
       "      <td>0.267099</td>\n",
       "    </tr>\n",
       "    <tr>\n",
       "      <th>DMC</th>\n",
       "      <td>0.482965</td>\n",
       "      <td>-0.393893</td>\n",
       "      <td>-0.010158</td>\n",
       "      <td>-0.300364</td>\n",
       "      <td>0.621958</td>\n",
       "      <td>1.000000</td>\n",
       "      <td>0.884417</td>\n",
       "      <td>0.680918</td>\n",
       "      <td>0.984222</td>\n",
       "      <td>0.629505</td>\n",
       "      <td>0.175711</td>\n",
       "    </tr>\n",
       "    <tr>\n",
       "      <th>DC</th>\n",
       "      <td>0.349021</td>\n",
       "      <td>-0.203883</td>\n",
       "      <td>0.079699</td>\n",
       "      <td>-0.302591</td>\n",
       "      <td>0.528275</td>\n",
       "      <td>0.884417</td>\n",
       "      <td>1.000000</td>\n",
       "      <td>0.501412</td>\n",
       "      <td>0.951157</td>\n",
       "      <td>0.562431</td>\n",
       "      <td>-0.080660</td>\n",
       "    </tr>\n",
       "    <tr>\n",
       "      <th>ISI</th>\n",
       "      <td>0.618172</td>\n",
       "      <td>-0.712353</td>\n",
       "      <td>-0.018845</td>\n",
       "      <td>-0.347660</td>\n",
       "      <td>0.742079</td>\n",
       "      <td>0.680918</td>\n",
       "      <td>0.501412</td>\n",
       "      <td>1.000000</td>\n",
       "      <td>0.632285</td>\n",
       "      <td>0.747764</td>\n",
       "      <td>0.312299</td>\n",
       "    </tr>\n",
       "    <tr>\n",
       "      <th>BUI</th>\n",
       "      <td>0.447959</td>\n",
       "      <td>-0.333027</td>\n",
       "      <td>0.023680</td>\n",
       "      <td>-0.308258</td>\n",
       "      <td>0.606527</td>\n",
       "      <td>0.984222</td>\n",
       "      <td>0.951157</td>\n",
       "      <td>0.632285</td>\n",
       "      <td>1.000000</td>\n",
       "      <td>0.624037</td>\n",
       "      <td>0.079373</td>\n",
       "    </tr>\n",
       "    <tr>\n",
       "      <th>Classes</th>\n",
       "      <td>0.512299</td>\n",
       "      <td>-0.446906</td>\n",
       "      <td>-0.108246</td>\n",
       "      <td>-0.393221</td>\n",
       "      <td>0.773444</td>\n",
       "      <td>0.629505</td>\n",
       "      <td>0.562431</td>\n",
       "      <td>0.747764</td>\n",
       "      <td>0.624037</td>\n",
       "      <td>1.000000</td>\n",
       "      <td>0.201988</td>\n",
       "    </tr>\n",
       "    <tr>\n",
       "      <th>Region</th>\n",
       "      <td>0.296033</td>\n",
       "      <td>-0.427696</td>\n",
       "      <td>-0.191245</td>\n",
       "      <td>-0.086938</td>\n",
       "      <td>0.267099</td>\n",
       "      <td>0.175711</td>\n",
       "      <td>-0.080660</td>\n",
       "      <td>0.312299</td>\n",
       "      <td>0.079373</td>\n",
       "      <td>0.201988</td>\n",
       "      <td>1.000000</td>\n",
       "    </tr>\n",
       "  </tbody>\n",
       "</table>\n",
       "</div>"
      ],
      "text/plain": [
       "             Temperature        RH        Ws      Rain      FFMC       DMC  \\\n",
       "Temperature     1.000000 -0.657325 -0.357016 -0.365941  0.684556  0.482965   \n",
       "RH             -0.657325  1.000000  0.262581  0.275592 -0.653649 -0.393893   \n",
       "Ws             -0.357016  0.262581  1.000000  0.204035 -0.226129 -0.010158   \n",
       "Rain           -0.365941  0.275592  0.204035  1.000000 -0.589465 -0.300364   \n",
       "FFMC            0.684556 -0.653649 -0.226129 -0.589465  1.000000  0.621958   \n",
       "DMC             0.482965 -0.393893 -0.010158 -0.300364  0.621958  1.000000   \n",
       "DC              0.349021 -0.203883  0.079699 -0.302591  0.528275  0.884417   \n",
       "ISI             0.618172 -0.712353 -0.018845 -0.347660  0.742079  0.680918   \n",
       "BUI             0.447959 -0.333027  0.023680 -0.308258  0.606527  0.984222   \n",
       "Classes         0.512299 -0.446906 -0.108246 -0.393221  0.773444  0.629505   \n",
       "Region          0.296033 -0.427696 -0.191245 -0.086938  0.267099  0.175711   \n",
       "\n",
       "                   DC       ISI       BUI   Classes    Region  \n",
       "Temperature  0.349021  0.618172  0.447959  0.512299  0.296033  \n",
       "RH          -0.203883 -0.712353 -0.333027 -0.446906 -0.427696  \n",
       "Ws           0.079699 -0.018845  0.023680 -0.108246 -0.191245  \n",
       "Rain        -0.302591 -0.347660 -0.308258 -0.393221 -0.086938  \n",
       "FFMC         0.528275  0.742079  0.606527  0.773444  0.267099  \n",
       "DMC          0.884417  0.680918  0.984222  0.629505  0.175711  \n",
       "DC           1.000000  0.501412  0.951157  0.562431 -0.080660  \n",
       "ISI          0.501412  1.000000  0.632285  0.747764  0.312299  \n",
       "BUI          0.951157  0.632285  1.000000  0.624037  0.079373  \n",
       "Classes      0.562431  0.747764  0.624037  1.000000  0.201988  \n",
       "Region      -0.080660  0.312299  0.079373  0.201988  1.000000  "
      ]
     },
     "execution_count": 17,
     "metadata": {},
     "output_type": "execute_result"
    }
   ],
   "source": [
    "X_train.corr()"
   ]
  },
  {
   "cell_type": "code",
   "execution_count": 18,
   "id": "c54f0b64",
   "metadata": {},
   "outputs": [
    {
     "data": {
      "text/plain": [
       "-0.1912451613133325"
      ]
     },
     "execution_count": 18,
     "metadata": {},
     "output_type": "execute_result"
    }
   ],
   "source": [
    "X_train.corr().iloc[10,2]"
   ]
  },
  {
   "cell_type": "code",
   "execution_count": 19,
   "id": "a1290e5e",
   "metadata": {
    "scrolled": true
   },
   "outputs": [
    {
     "name": "stdout",
     "output_type": "stream",
     "text": [
      "DC\n",
      "BUI\n",
      "BUI\n",
      "Classes\n",
      "{'BUI', 'Classes', 'DC'}\n"
     ]
    }
   ],
   "source": [
    "corr_set = set()\n",
    "for i in range(len(X_train.corr().columns)):\n",
    "    for j in range(i):\n",
    "        if abs(X_train.corr().iloc[i,j]) > 0.75:\n",
    "            print(X_train.corr().columns[i])\n",
    "            corr_set.add(X_train.corr().columns[i])\n",
    "print(corr_set)"
   ]
  },
  {
   "cell_type": "code",
   "execution_count": 20,
   "id": "e20e67c2",
   "metadata": {},
   "outputs": [
    {
     "data": {
      "text/plain": [
       "((182, 8), (61, 8))"
      ]
     },
     "execution_count": 20,
     "metadata": {},
     "output_type": "execute_result"
    }
   ],
   "source": [
    "X_train.drop(corr_feature, axis=1, inplace= True)\n",
    "X_test.drop(corr_feature, axis=1, inplace= True)\n",
    "X_train.shape, X_test.shape"
   ]
  },
  {
   "cell_type": "markdown",
   "id": "381e1121",
   "metadata": {},
   "source": [
    "### Applying a Standardizations and Feature Scalling"
   ]
  },
  {
   "cell_type": "code",
   "execution_count": 21,
   "id": "611bb02d",
   "metadata": {},
   "outputs": [],
   "source": [
    "def scaler_standard(X_train,X_test):\n",
    "    scaler = StandardScaler()\n",
    "    X_train_scaled = scaler.fit_transform(X_train)\n",
    "    X_test_scaled = scaler.transform(X_test)\n",
    "    \n",
    "    return X_train_scaled,X_test_scaled"
   ]
  },
  {
   "cell_type": "code",
   "execution_count": 22,
   "id": "8072f2e7",
   "metadata": {},
   "outputs": [],
   "source": [
    "X_train_scaled,X_test_scaled =scaler_standard(X_train,X_test)"
   ]
  },
  {
   "cell_type": "code",
   "execution_count": 23,
   "id": "12e9d839",
   "metadata": {},
   "outputs": [
    {
     "data": {
      "text/plain": [
       "Text(0.5, 1.0, 'X_train with Scalling')"
      ]
     },
     "execution_count": 23,
     "metadata": {},
     "output_type": "execute_result"
    },
    {
     "data": {
      "image/png": "[encoded data removed]",
      "text/plain": [
       "<Figure size 1080x360 with 2 Axes>"
      ]
     },
     "metadata": {
      "needs_background": "light"
     },
     "output_type": "display_data"
    }
   ],
   "source": [
    "plt.subplots(figsize=(15,5))\n",
    "plt.subplot(1,2,1)\n",
    "sns.boxplot(data=X_train)\n",
    "plt.title('X_train Without Scaling')\n",
    "\n",
    "plt.subplot(1,2,2)\n",
    "sns.boxplot(data=X_train_scaled)\n",
    "plt.title('X_train with Scalling')"
   ]
  },
  {
   "cell_type": "markdown",
   "id": "4f7ba1da",
   "metadata": {},
   "source": [
    "# Model Selection for Regression"
   ]
  },
  {
   "cell_type": "markdown",
   "id": "e563f42d",
   "metadata": {},
   "source": [
    "### Simple Linear Regression"
   ]
  },
  {
   "cell_type": "code",
   "execution_count": 24,
   "id": "b702e306",
   "metadata": {},
   "outputs": [
    {
     "data": {
      "text/plain": [
       "0.970007251469972"
      ]
     },
     "execution_count": 24,
     "metadata": {},
     "output_type": "execute_result"
    }
   ],
   "source": [
    "from sklearn.linear_model import LinearRegression\n",
    "\n",
    "lin_reg = LinearRegression()\n",
    "lin_reg.fit(X_train_scaled,y_train)\n",
    "lin_reg_pred = lin_reg.predict(X_test_scaled)\n",
    "\n",
    "lin_reg.score(X_test_scaled,y_test)"
   ]
  },
  {
   "cell_type": "markdown",
   "id": "93178f68",
   "metadata": {},
   "source": [
    "### Lasso Regression"
   ]
  },
  {
   "cell_type": "code",
   "execution_count": 25,
   "id": "2381c03a",
   "metadata": {},
   "outputs": [],
   "source": [
    "from sklearn.linear_model import Lasso\n",
    "\n",
    "lasso = Lasso()\n",
    "lasso.fit(X_train_scaled,y_train)\n",
    "lasso_pred = lasso.predict(X_test_scaled)"
   ]
  },
  {
   "cell_type": "markdown",
   "id": "8242433a",
   "metadata": {},
   "source": [
    "### Ridge Regression"
   ]
  },
  {
   "cell_type": "code",
   "execution_count": 26,
   "id": "a4f1f120",
   "metadata": {},
   "outputs": [],
   "source": [
    "from sklearn.linear_model import Ridge\n",
    "\n",
    "ridge = Ridge()\n",
    "ridge.fit(X_train_scaled,y_train)\n",
    "ridge_pred = ridge.predict(X_test_scaled)"
   ]
  },
  {
   "cell_type": "markdown",
   "id": "fd6b2424",
   "metadata": {},
   "source": [
    "### Support Vector Regression"
   ]
  },
  {
   "cell_type": "code",
   "execution_count": 27,
   "id": "5d67894d",
   "metadata": {},
   "outputs": [],
   "source": [
    "from sklearn.svm import SVR\n",
    "\n",
    "svr = SVR()\n",
    "svr.fit(X_train_scaled,y_train)\n",
    "svr_pred = svr.predict(X_test_scaled)"
   ]
  },
  {
   "cell_type": "markdown",
   "id": "f85ce09e",
   "metadata": {},
   "source": [
    "### Random Forest Regression"
   ]
  },
  {
   "cell_type": "code",
   "execution_count": 28,
   "id": "19a4cd3b",
   "metadata": {},
   "outputs": [],
   "source": [
    "from sklearn.ensemble import RandomForestRegressor\n",
    "\n",
    "rfr = RandomForestRegressor()\n",
    "rfr.fit(X_train_scaled,y_train)\n",
    "rfr_pred = rfr.predict(X_test_scaled)"
   ]
  },
  {
   "cell_type": "markdown",
   "id": "2db9f5f4",
   "metadata": {},
   "source": [
    "### K-Neighbors Regression"
   ]
  },
  {
   "cell_type": "code",
   "execution_count": 29,
   "id": "df467e01",
   "metadata": {},
   "outputs": [],
   "source": [
    "from sklearn.neighbors import KNeighborsRegressor\n",
    "\n",
    "knr = KNeighborsRegressor()\n",
    "knr.fit(X_train_scaled,y_train)\n",
    "knr_pred = knr.predict(X_test_scaled)"
   ]
  },
  {
   "cell_type": "markdown",
   "id": "725e1719",
   "metadata": {},
   "source": [
    "#### Regression Model results Summary"
   ]
  },
  {
   "cell_type": "code",
   "execution_count": 30,
   "id": "77d7444e",
   "metadata": {},
   "outputs": [],
   "source": [
    "from sklearn.metrics import mean_absolute_error,r2_score\n",
    "\n",
    "lin_mae = mean_absolute_error(y_test,lin_reg_pred)\n",
    "lasso_mae = mean_absolute_error(y_test,lasso_pred)\n",
    "ridge_mae = mean_absolute_error(y_test,ridge_pred)\n",
    "svr_mae = mean_absolute_error(y_test,svr_pred)\n",
    "rfr_mae = mean_absolute_error(y_test,rfr_pred)\n",
    "knr_mae = mean_absolute_error(y_test,knr_pred)\n",
    "\n",
    "lin_r2 = r2_score(y_test,lin_reg_pred)\n",
    "lasso_r2  = r2_score(y_test,lasso_pred)\n",
    "ridge_r2 = r2_score(y_test,ridge_pred)\n",
    "svr_r2 = r2_score(y_test,svr_pred)\n",
    "rfr_r2 = r2_score(y_test,rfr_pred)\n",
    "knr_r2 = r2_score(y_test,knr_pred)"
   ]
  },
  {
   "cell_type": "code",
   "execution_count": 31,
   "id": "f025a68f",
   "metadata": {},
   "outputs": [],
   "source": [
    "from sklearn.model_selection import cross_val_score"
   ]
  },
  {
   "cell_type": "code",
   "execution_count": 32,
   "id": "667aff87",
   "metadata": {},
   "outputs": [
    {
     "name": "stdout",
     "output_type": "stream",
     "text": [
      "[1.18165995 0.87853025 0.96277517 2.64652756 1.38506459]\n",
      "-2.403516749642237\n",
      "2.3348644676670745\n"
     ]
    }
   ],
   "source": [
    "scores = cross_val_score(lin_reg,X_train,y_train,scoring='neg_mean_squared_error',cv=5)\n",
    "print(np.sqrt(-scores))\n",
    "print(scores.mean())\n",
    "print(scores.std())"
   ]
  },
  {
   "cell_type": "code",
   "execution_count": 33,
   "id": "52f8be35",
   "metadata": {},
   "outputs": [],
   "source": [
    "model_name= ['LinearRegression','Lasso','Ridge','SVR','RandomForest','KNN']\n",
    "MAE = [lin_mae,lasso_mae,ridge_mae,svr_mae,rfr_mae,knr_mae]\n",
    "R2Score = [lin_r2,lasso_r2,ridge_r2,svr_r2,rfr_r2,knr_r2]"
   ]
  },
  {
   "cell_type": "code",
   "execution_count": 34,
   "id": "b8d4ab46",
   "metadata": {},
   "outputs": [],
   "source": [
    "results = pd.DataFrame({'model_name':model_name,'MAE':MAE,'R2Score':R2Score})"
   ]
  },
  {
   "cell_type": "code",
   "execution_count": 35,
   "id": "1c7dabd3",
   "metadata": {},
   "outputs": [
    {
     "data": {
      "text/html": [
       "<div>\n",
       "<style scoped>\n",
       "    .dataframe tbody tr th:only-of-type {\n",
       "        vertical-align: middle;\n",
       "    }\n",
       "\n",
       "    .dataframe tbody tr th {\n",
       "        vertical-align: top;\n",
       "    }\n",
       "\n",
       "    .dataframe thead th {\n",
       "        text-align: right;\n",
       "    }\n",
       "</style>\n",
       "<table border=\"1\" class=\"dataframe\">\n",
       "  <thead>\n",
       "    <tr style=\"text-align: right;\">\n",
       "      <th></th>\n",
       "      <th>model_name</th>\n",
       "      <th>MAE</th>\n",
       "      <th>R2Score</th>\n",
       "    </tr>\n",
       "  </thead>\n",
       "  <tbody>\n",
       "    <tr>\n",
       "      <th>4</th>\n",
       "      <td>RandomForest</td>\n",
       "      <td>0.589361</td>\n",
       "      <td>0.979473</td>\n",
       "    </tr>\n",
       "    <tr>\n",
       "      <th>0</th>\n",
       "      <td>LinearRegression</td>\n",
       "      <td>0.645319</td>\n",
       "      <td>0.970007</td>\n",
       "    </tr>\n",
       "    <tr>\n",
       "      <th>2</th>\n",
       "      <td>Ridge</td>\n",
       "      <td>0.664769</td>\n",
       "      <td>0.968992</td>\n",
       "    </tr>\n",
       "    <tr>\n",
       "      <th>5</th>\n",
       "      <td>KNN</td>\n",
       "      <td>0.981639</td>\n",
       "      <td>0.942237</td>\n",
       "    </tr>\n",
       "    <tr>\n",
       "      <th>1</th>\n",
       "      <td>Lasso</td>\n",
       "      <td>1.120918</td>\n",
       "      <td>0.937661</td>\n",
       "    </tr>\n",
       "    <tr>\n",
       "      <th>3</th>\n",
       "      <td>SVR</td>\n",
       "      <td>0.867593</td>\n",
       "      <td>0.933966</td>\n",
       "    </tr>\n",
       "  </tbody>\n",
       "</table>\n",
       "</div>"
      ],
      "text/plain": [
       "         model_name       MAE   R2Score\n",
       "4      RandomForest  0.589361  0.979473\n",
       "0  LinearRegression  0.645319  0.970007\n",
       "2             Ridge  0.664769  0.968992\n",
       "5               KNN  0.981639  0.942237\n",
       "1             Lasso  1.120918  0.937661\n",
       "3               SVR  0.867593  0.933966"
      ]
     },
     "execution_count": 35,
     "metadata": {},
     "output_type": "execute_result"
    }
   ],
   "source": [
    "results.sort_values(['R2Score'],ascending=False)"
   ]
  },
  {
   "cell_type": "markdown",
   "id": "951a4805",
   "metadata": {},
   "source": [
    "### **Accuracy score Results Summary**\n",
    "\n",
    "| Models     | Accuracy score  |\n",
    "| ----------- | ----------- |\n",
    "| Random Forest Regressor     | 98.18 % |\n",
    "| Linear Regression  | 97.00 % |\n",
    "| Ridge Regression  | 96.90 % |\n",
    "| K Neighbors Regressor  | 94.22 %|\n",
    "| Lasso Regression  | 93.77 % |\n",
    "| Support Vector Regressor     | 93.40 % |"
   ]
  },
  {
   "cell_type": "markdown",
   "id": "94905c28",
   "metadata": {},
   "source": [
    "### Linear Regression is second best accurate as per score best is RandomForestRegressor\n",
    "## RandomForest Regression Selecting for Evaluating"
   ]
  },
  {
   "cell_type": "markdown",
   "id": "712b9056",
   "metadata": {},
   "source": [
    "# Hyper parameter Tunig - Model tuning"
   ]
  },
  {
   "cell_type": "code",
   "execution_count": 36,
   "id": "5cc741ad",
   "metadata": {},
   "outputs": [],
   "source": [
    "from sklearn.model_selection import RandomizedSearchCV, GridSearchCV\n",
    "from sklearn.pipeline import Pipeline, make_pipeline\n",
    "\n",
    "from sklearn.preprocessing import OneHotEncoder,PowerTransformer, StandardScaler, MinMaxScaler\n",
    "from sklearn.compose import ColumnTransformer"
   ]
  },
  {
   "cell_type": "code",
   "execution_count": 37,
   "id": "628ad9bc",
   "metadata": {},
   "outputs": [
    {
     "data": {
      "text/plain": [
       "dict_keys(['copy_X', 'fit_intercept', 'n_jobs', 'normalize', 'positive'])"
      ]
     },
     "execution_count": 37,
     "metadata": {},
     "output_type": "execute_result"
    }
   ],
   "source": [
    "lin_reg.get_params().keys()"
   ]
  },
  {
   "cell_type": "code",
   "execution_count": 38,
   "id": "87107a5b",
   "metadata": {},
   "outputs": [
    {
     "data": {
      "text/plain": [
       "GridSearchCV(cv=5, estimator=RandomForestRegressor(),\n",
       "             param_grid=[{'max_features': [2, 4, 6, 8],\n",
       "                          'n_estimators': [3, 10, 30]},\n",
       "                         {'bootstrap': [False], 'max_features': [2, 3, 4],\n",
       "                          'n_estimators': [3, 10]}],\n",
       "             return_train_score=True, scoring='neg_mean_squared_error')"
      ]
     },
     "execution_count": 38,
     "metadata": {},
     "output_type": "execute_result"
    }
   ],
   "source": [
    "param_grid = [{'n_estimators':[3,10,30], 'max_features':[2,4,6,8]},\n",
    "             {'bootstrap':[False],'n_estimators':[3,10], 'max_features':[2,3,4]},]\n",
    "\n",
    "grid_cv = GridSearchCV(rfr, param_grid, cv=5, scoring ='neg_mean_squared_error', return_train_score=True)\n",
    "\n",
    "grid_cv.fit(X_train_scaled,y_train)"
   ]
  },
  {
   "cell_type": "code",
   "execution_count": 39,
   "id": "bd6e17af",
   "metadata": {},
   "outputs": [
    {
     "name": "stdout",
     "output_type": "stream",
     "text": [
      "Fitting 10 folds for each of 10 candidates, totalling 100 fits\n"
     ]
    },
    {
     "data": {
      "text/plain": [
       "RandomizedSearchCV(cv=10, estimator=RandomForestRegressor(), n_jobs=-1,\n",
       "                   param_distributions=[{'bootstrap': [True, False],\n",
       "                                         'max_depth': [10, 20, 30, 40, 50, 60,\n",
       "                                                       70, 80, 90, 100, 110,\n",
       "                                                       120],\n",
       "                                         'max_features': ['auto', 'sqrt'],\n",
       "                                         'min_samples_leaf': [1, 3, 4],\n",
       "                                         'min_samples_split': [2, 6, 10],\n",
       "                                         'n_estimators': [5, 20, 50, 100]}],\n",
       "                   verbose=2)"
      ]
     },
     "execution_count": 39,
     "metadata": {},
     "output_type": "execute_result"
    }
   ],
   "source": [
    "param_grid =[{'bootstrap': [True, False],\n",
    "'max_depth': [10, 20, 30, 40, 50, 60, 70, 80, 90, 100, 110,120],\n",
    "'max_features': ['auto', 'sqrt'],\n",
    "'min_samples_leaf': [1, 3, 4],\n",
    "'min_samples_split': [2, 6, 10],\n",
    "'n_estimators': [5, 20, 50, 100]}]\n",
    "\n",
    "f_reg = RandomForestRegressor()\n",
    "Random_rf = RandomizedSearchCV(rfr,param_grid, cv = 10, verbose=2,n_jobs = -1)\n",
    "Random_rf.fit(X_train_scaled, y_train)"
   ]
  },
  {
   "cell_type": "code",
   "execution_count": 40,
   "id": "2f8215ab",
   "metadata": {},
   "outputs": [
    {
     "name": "stdout",
     "output_type": "stream",
     "text": [
      "{'max_features': 8, 'n_estimators': 30}\n",
      "RandomForestRegressor(max_features=8, n_estimators=30)\n"
     ]
    }
   ],
   "source": [
    "print(grid_cv.best_params_)\n",
    "print(grid_cv.best_estimator_)\n"
   ]
  },
  {
   "cell_type": "code",
   "execution_count": 41,
   "id": "b5cf3ecf",
   "metadata": {},
   "outputs": [
    {
     "name": "stdout",
     "output_type": "stream",
     "text": [
      "best_param {'n_estimators': 100, 'min_samples_split': 6, 'min_samples_leaf': 3, 'max_features': 'sqrt', 'max_depth': 120, 'bootstrap': False}\n",
      "Best estimator RandomForestRegressor(bootstrap=False, max_depth=120, max_features='sqrt',\n",
      "                      min_samples_leaf=3, min_samples_split=6)\n"
     ]
    }
   ],
   "source": [
    "print('best_param',Random_rf.best_params_)\n",
    "print('Best estimator',Random_rf.best_estimator_)\n",
    "best_random_grid = Random_rf.best_estimator_\n",
    "\n",
    "bestrf_pred = best_random_grid.predict(X_test_scaled)\n",
    "mae = mean_absolute_error(y_test, bestrf_pred)\n",
    "r2 = r2_score(y_test, bestrf_pred)"
   ]
  },
  {
   "cell_type": "code",
   "execution_count": 42,
   "id": "6f14d250",
   "metadata": {
    "scrolled": true
   },
   "outputs": [
    {
     "data": {
      "text/html": [
       "<div>\n",
       "<style scoped>\n",
       "    .dataframe tbody tr th:only-of-type {\n",
       "        vertical-align: middle;\n",
       "    }\n",
       "\n",
       "    .dataframe tbody tr th {\n",
       "        vertical-align: top;\n",
       "    }\n",
       "\n",
       "    .dataframe thead th {\n",
       "        text-align: right;\n",
       "    }\n",
       "</style>\n",
       "<table border=\"1\" class=\"dataframe\">\n",
       "  <thead>\n",
       "    <tr style=\"text-align: right;\">\n",
       "      <th></th>\n",
       "      <th>mean_fit_time</th>\n",
       "      <th>std_fit_time</th>\n",
       "      <th>mean_score_time</th>\n",
       "      <th>std_score_time</th>\n",
       "      <th>param_max_features</th>\n",
       "      <th>param_n_estimators</th>\n",
       "      <th>param_bootstrap</th>\n",
       "      <th>params</th>\n",
       "      <th>split0_test_score</th>\n",
       "      <th>split1_test_score</th>\n",
       "      <th>...</th>\n",
       "      <th>mean_test_score</th>\n",
       "      <th>std_test_score</th>\n",
       "      <th>rank_test_score</th>\n",
       "      <th>split0_train_score</th>\n",
       "      <th>split1_train_score</th>\n",
       "      <th>split2_train_score</th>\n",
       "      <th>split3_train_score</th>\n",
       "      <th>split4_train_score</th>\n",
       "      <th>mean_train_score</th>\n",
       "      <th>std_train_score</th>\n",
       "    </tr>\n",
       "  </thead>\n",
       "  <tbody>\n",
       "    <tr>\n",
       "      <th>0</th>\n",
       "      <td>0.011389</td>\n",
       "      <td>0.004316</td>\n",
       "      <td>0.001999</td>\n",
       "      <td>1.094974e-03</td>\n",
       "      <td>2</td>\n",
       "      <td>3</td>\n",
       "      <td>NaN</td>\n",
       "      <td>{'max_features': 2, 'n_estimators': 3}</td>\n",
       "      <td>-7.852823</td>\n",
       "      <td>-2.595766</td>\n",
       "      <td>...</td>\n",
       "      <td>-4.386779</td>\n",
       "      <td>1.967436</td>\n",
       "      <td>18</td>\n",
       "      <td>-8.160536e-01</td>\n",
       "      <td>-1.772935e+00</td>\n",
       "      <td>-1.700609e+00</td>\n",
       "      <td>-2.235441e+00</td>\n",
       "      <td>-1.614673e+00</td>\n",
       "      <td>-1.627942e+00</td>\n",
       "      <td>4.592815e-01</td>\n",
       "    </tr>\n",
       "    <tr>\n",
       "      <th>1</th>\n",
       "      <td>0.019396</td>\n",
       "      <td>0.000491</td>\n",
       "      <td>0.002199</td>\n",
       "      <td>3.998757e-04</td>\n",
       "      <td>2</td>\n",
       "      <td>10</td>\n",
       "      <td>NaN</td>\n",
       "      <td>{'max_features': 2, 'n_estimators': 10}</td>\n",
       "      <td>-3.552646</td>\n",
       "      <td>-1.866354</td>\n",
       "      <td>...</td>\n",
       "      <td>-3.266589</td>\n",
       "      <td>0.879418</td>\n",
       "      <td>13</td>\n",
       "      <td>-5.857731e-01</td>\n",
       "      <td>-8.198903e-01</td>\n",
       "      <td>-8.019671e-01</td>\n",
       "      <td>-4.745089e-01</td>\n",
       "      <td>-4.158527e-01</td>\n",
       "      <td>-6.195984e-01</td>\n",
       "      <td>1.655794e-01</td>\n",
       "    </tr>\n",
       "    <tr>\n",
       "      <th>2</th>\n",
       "      <td>0.056167</td>\n",
       "      <td>0.001937</td>\n",
       "      <td>0.004197</td>\n",
       "      <td>4.000664e-04</td>\n",
       "      <td>2</td>\n",
       "      <td>30</td>\n",
       "      <td>NaN</td>\n",
       "      <td>{'max_features': 2, 'n_estimators': 30}</td>\n",
       "      <td>-4.250789</td>\n",
       "      <td>-1.881910</td>\n",
       "      <td>...</td>\n",
       "      <td>-3.486965</td>\n",
       "      <td>1.053346</td>\n",
       "      <td>14</td>\n",
       "      <td>-3.526541e-01</td>\n",
       "      <td>-4.202522e-01</td>\n",
       "      <td>-7.003565e-01</td>\n",
       "      <td>-3.882408e-01</td>\n",
       "      <td>-6.453933e-01</td>\n",
       "      <td>-5.013794e-01</td>\n",
       "      <td>1.427116e-01</td>\n",
       "    </tr>\n",
       "    <tr>\n",
       "      <th>3</th>\n",
       "      <td>0.007396</td>\n",
       "      <td>0.000490</td>\n",
       "      <td>0.001200</td>\n",
       "      <td>3.998280e-04</td>\n",
       "      <td>4</td>\n",
       "      <td>3</td>\n",
       "      <td>NaN</td>\n",
       "      <td>{'max_features': 4, 'n_estimators': 3}</td>\n",
       "      <td>-3.850330</td>\n",
       "      <td>-2.552282</td>\n",
       "      <td>...</td>\n",
       "      <td>-3.214288</td>\n",
       "      <td>1.229529</td>\n",
       "      <td>11</td>\n",
       "      <td>-1.227410e+00</td>\n",
       "      <td>-1.250215e+00</td>\n",
       "      <td>-1.131126e+00</td>\n",
       "      <td>-8.575190e-01</td>\n",
       "      <td>-8.192542e-01</td>\n",
       "      <td>-1.057105e+00</td>\n",
       "      <td>1.834022e-01</td>\n",
       "    </tr>\n",
       "    <tr>\n",
       "      <th>4</th>\n",
       "      <td>0.020189</td>\n",
       "      <td>0.000978</td>\n",
       "      <td>0.002394</td>\n",
       "      <td>4.846017e-04</td>\n",
       "      <td>4</td>\n",
       "      <td>10</td>\n",
       "      <td>NaN</td>\n",
       "      <td>{'max_features': 4, 'n_estimators': 10}</td>\n",
       "      <td>-2.997786</td>\n",
       "      <td>-1.499822</td>\n",
       "      <td>...</td>\n",
       "      <td>-2.809102</td>\n",
       "      <td>0.773482</td>\n",
       "      <td>6</td>\n",
       "      <td>-6.882607e-01</td>\n",
       "      <td>-3.848276e-01</td>\n",
       "      <td>-7.820260e-01</td>\n",
       "      <td>-3.840945e-01</td>\n",
       "      <td>-5.679301e-01</td>\n",
       "      <td>-5.614278e-01</td>\n",
       "      <td>1.596416e-01</td>\n",
       "    </tr>\n",
       "    <tr>\n",
       "      <th>5</th>\n",
       "      <td>0.060165</td>\n",
       "      <td>0.002481</td>\n",
       "      <td>0.004798</td>\n",
       "      <td>4.000703e-04</td>\n",
       "      <td>4</td>\n",
       "      <td>30</td>\n",
       "      <td>NaN</td>\n",
       "      <td>{'max_features': 4, 'n_estimators': 30}</td>\n",
       "      <td>-2.597438</td>\n",
       "      <td>-1.387717</td>\n",
       "      <td>...</td>\n",
       "      <td>-2.335667</td>\n",
       "      <td>0.637305</td>\n",
       "      <td>2</td>\n",
       "      <td>-2.958758e-01</td>\n",
       "      <td>-4.096828e-01</td>\n",
       "      <td>-4.420275e-01</td>\n",
       "      <td>-2.571145e-01</td>\n",
       "      <td>-3.550628e-01</td>\n",
       "      <td>-3.519527e-01</td>\n",
       "      <td>6.869473e-02</td>\n",
       "    </tr>\n",
       "    <tr>\n",
       "      <th>6</th>\n",
       "      <td>0.008198</td>\n",
       "      <td>0.000397</td>\n",
       "      <td>0.001199</td>\n",
       "      <td>3.998284e-04</td>\n",
       "      <td>6</td>\n",
       "      <td>3</td>\n",
       "      <td>NaN</td>\n",
       "      <td>{'max_features': 6, 'n_estimators': 3}</td>\n",
       "      <td>-3.993483</td>\n",
       "      <td>-2.062763</td>\n",
       "      <td>...</td>\n",
       "      <td>-2.865910</td>\n",
       "      <td>0.734497</td>\n",
       "      <td>7</td>\n",
       "      <td>-9.041303e-01</td>\n",
       "      <td>-1.142038e+00</td>\n",
       "      <td>-6.803044e-01</td>\n",
       "      <td>-1.035114e+00</td>\n",
       "      <td>-7.821233e-01</td>\n",
       "      <td>-9.087421e-01</td>\n",
       "      <td>1.665139e-01</td>\n",
       "    </tr>\n",
       "    <tr>\n",
       "      <th>7</th>\n",
       "      <td>0.037198</td>\n",
       "      <td>0.024057</td>\n",
       "      <td>0.003911</td>\n",
       "      <td>3.824782e-03</td>\n",
       "      <td>6</td>\n",
       "      <td>10</td>\n",
       "      <td>NaN</td>\n",
       "      <td>{'max_features': 6, 'n_estimators': 10}</td>\n",
       "      <td>-2.496981</td>\n",
       "      <td>-1.906324</td>\n",
       "      <td>...</td>\n",
       "      <td>-2.554238</td>\n",
       "      <td>0.957085</td>\n",
       "      <td>5</td>\n",
       "      <td>-3.405041e-01</td>\n",
       "      <td>-5.091352e-01</td>\n",
       "      <td>-3.958774e-01</td>\n",
       "      <td>-4.100493e-01</td>\n",
       "      <td>-3.603712e-01</td>\n",
       "      <td>-4.031875e-01</td>\n",
       "      <td>5.846002e-02</td>\n",
       "    </tr>\n",
       "    <tr>\n",
       "      <th>8</th>\n",
       "      <td>0.072957</td>\n",
       "      <td>0.023985</td>\n",
       "      <td>0.004198</td>\n",
       "      <td>4.007816e-04</td>\n",
       "      <td>6</td>\n",
       "      <td>30</td>\n",
       "      <td>NaN</td>\n",
       "      <td>{'max_features': 6, 'n_estimators': 30}</td>\n",
       "      <td>-2.763421</td>\n",
       "      <td>-1.867465</td>\n",
       "      <td>...</td>\n",
       "      <td>-2.378339</td>\n",
       "      <td>0.874679</td>\n",
       "      <td>3</td>\n",
       "      <td>-3.410018e-01</td>\n",
       "      <td>-3.481811e-01</td>\n",
       "      <td>-3.328218e-01</td>\n",
       "      <td>-2.835122e-01</td>\n",
       "      <td>-2.827213e-01</td>\n",
       "      <td>-3.176476e-01</td>\n",
       "      <td>2.861133e-02</td>\n",
       "    </tr>\n",
       "    <tr>\n",
       "      <th>9</th>\n",
       "      <td>0.007795</td>\n",
       "      <td>0.000748</td>\n",
       "      <td>0.001400</td>\n",
       "      <td>4.896679e-04</td>\n",
       "      <td>8</td>\n",
       "      <td>3</td>\n",
       "      <td>NaN</td>\n",
       "      <td>{'max_features': 8, 'n_estimators': 3}</td>\n",
       "      <td>-3.765586</td>\n",
       "      <td>-1.337417</td>\n",
       "      <td>...</td>\n",
       "      <td>-3.245310</td>\n",
       "      <td>1.286405</td>\n",
       "      <td>12</td>\n",
       "      <td>-7.227663e-01</td>\n",
       "      <td>-7.100000e-01</td>\n",
       "      <td>-8.956469e-01</td>\n",
       "      <td>-8.293379e-01</td>\n",
       "      <td>-4.899848e-01</td>\n",
       "      <td>-7.295472e-01</td>\n",
       "      <td>1.381054e-01</td>\n",
       "    </tr>\n",
       "    <tr>\n",
       "      <th>10</th>\n",
       "      <td>0.022387</td>\n",
       "      <td>0.001357</td>\n",
       "      <td>0.001998</td>\n",
       "      <td>6.843901e-07</td>\n",
       "      <td>8</td>\n",
       "      <td>10</td>\n",
       "      <td>NaN</td>\n",
       "      <td>{'max_features': 8, 'n_estimators': 10}</td>\n",
       "      <td>-3.530386</td>\n",
       "      <td>-1.407973</td>\n",
       "      <td>...</td>\n",
       "      <td>-2.486701</td>\n",
       "      <td>0.702462</td>\n",
       "      <td>4</td>\n",
       "      <td>-3.014159e-01</td>\n",
       "      <td>-7.164083e-01</td>\n",
       "      <td>-6.228158e-01</td>\n",
       "      <td>-3.830993e-01</td>\n",
       "      <td>-5.707055e-01</td>\n",
       "      <td>-5.188889e-01</td>\n",
       "      <td>1.537745e-01</td>\n",
       "    </tr>\n",
       "    <tr>\n",
       "      <th>11</th>\n",
       "      <td>0.069159</td>\n",
       "      <td>0.010042</td>\n",
       "      <td>0.004197</td>\n",
       "      <td>4.000427e-04</td>\n",
       "      <td>8</td>\n",
       "      <td>30</td>\n",
       "      <td>NaN</td>\n",
       "      <td>{'max_features': 8, 'n_estimators': 30}</td>\n",
       "      <td>-2.645466</td>\n",
       "      <td>-1.816723</td>\n",
       "      <td>...</td>\n",
       "      <td>-2.172222</td>\n",
       "      <td>0.672905</td>\n",
       "      <td>1</td>\n",
       "      <td>-3.016199e-01</td>\n",
       "      <td>-3.582326e-01</td>\n",
       "      <td>-3.480581e-01</td>\n",
       "      <td>-2.720205e-01</td>\n",
       "      <td>-2.679772e-01</td>\n",
       "      <td>-3.095817e-01</td>\n",
       "      <td>3.755664e-02</td>\n",
       "    </tr>\n",
       "    <tr>\n",
       "      <th>12</th>\n",
       "      <td>0.006195</td>\n",
       "      <td>0.000400</td>\n",
       "      <td>0.001400</td>\n",
       "      <td>4.900771e-04</td>\n",
       "      <td>2</td>\n",
       "      <td>3</td>\n",
       "      <td>False</td>\n",
       "      <td>{'bootstrap': False, 'max_features': 2, 'n_est...</td>\n",
       "      <td>-7.376456</td>\n",
       "      <td>-1.533544</td>\n",
       "      <td>...</td>\n",
       "      <td>-4.278809</td>\n",
       "      <td>2.007471</td>\n",
       "      <td>17</td>\n",
       "      <td>-5.925409e-31</td>\n",
       "      <td>-6.482840e-31</td>\n",
       "      <td>-6.237005e-31</td>\n",
       "      <td>-7.331606e-31</td>\n",
       "      <td>-3.926219e-31</td>\n",
       "      <td>-5.980616e-31</td>\n",
       "      <td>1.128427e-31</td>\n",
       "    </tr>\n",
       "    <tr>\n",
       "      <th>13</th>\n",
       "      <td>0.018790</td>\n",
       "      <td>0.003058</td>\n",
       "      <td>0.002602</td>\n",
       "      <td>4.925209e-04</td>\n",
       "      <td>2</td>\n",
       "      <td>10</td>\n",
       "      <td>False</td>\n",
       "      <td>{'bootstrap': False, 'max_features': 2, 'n_est...</td>\n",
       "      <td>-3.929435</td>\n",
       "      <td>-1.356532</td>\n",
       "      <td>...</td>\n",
       "      <td>-3.102144</td>\n",
       "      <td>1.063542</td>\n",
       "      <td>10</td>\n",
       "      <td>-2.023966e-30</td>\n",
       "      <td>-1.379310e-04</td>\n",
       "      <td>-1.923329e-30</td>\n",
       "      <td>-1.369863e-04</td>\n",
       "      <td>-1.647927e-30</td>\n",
       "      <td>-5.498347e-05</td>\n",
       "      <td>6.734138e-05</td>\n",
       "    </tr>\n",
       "    <tr>\n",
       "      <th>14</th>\n",
       "      <td>0.006200</td>\n",
       "      <td>0.000978</td>\n",
       "      <td>0.001399</td>\n",
       "      <td>4.897653e-04</td>\n",
       "      <td>3</td>\n",
       "      <td>3</td>\n",
       "      <td>False</td>\n",
       "      <td>{'bootstrap': False, 'max_features': 3, 'n_est...</td>\n",
       "      <td>-7.731171</td>\n",
       "      <td>-0.821141</td>\n",
       "      <td>...</td>\n",
       "      <td>-3.748666</td>\n",
       "      <td>2.479730</td>\n",
       "      <td>15</td>\n",
       "      <td>-5.925409e-31</td>\n",
       "      <td>-6.482840e-31</td>\n",
       "      <td>-6.237005e-31</td>\n",
       "      <td>-7.331606e-31</td>\n",
       "      <td>-3.926219e-31</td>\n",
       "      <td>-5.980616e-31</td>\n",
       "      <td>1.128427e-31</td>\n",
       "    </tr>\n",
       "    <tr>\n",
       "      <th>15</th>\n",
       "      <td>0.017785</td>\n",
       "      <td>0.002640</td>\n",
       "      <td>0.002000</td>\n",
       "      <td>6.975526e-07</td>\n",
       "      <td>3</td>\n",
       "      <td>10</td>\n",
       "      <td>False</td>\n",
       "      <td>{'bootstrap': False, 'max_features': 3, 'n_est...</td>\n",
       "      <td>-2.950735</td>\n",
       "      <td>-1.187222</td>\n",
       "      <td>...</td>\n",
       "      <td>-2.911607</td>\n",
       "      <td>1.254445</td>\n",
       "      <td>8</td>\n",
       "      <td>-2.023966e-30</td>\n",
       "      <td>-2.313052e-30</td>\n",
       "      <td>-1.923012e-30</td>\n",
       "      <td>-1.968116e-30</td>\n",
       "      <td>-1.647863e-30</td>\n",
       "      <td>-1.975202e-30</td>\n",
       "      <td>2.128126e-31</td>\n",
       "    </tr>\n",
       "    <tr>\n",
       "      <th>16</th>\n",
       "      <td>0.006596</td>\n",
       "      <td>0.001198</td>\n",
       "      <td>0.001799</td>\n",
       "      <td>3.995663e-04</td>\n",
       "      <td>4</td>\n",
       "      <td>3</td>\n",
       "      <td>False</td>\n",
       "      <td>{'bootstrap': False, 'max_features': 4, 'n_est...</td>\n",
       "      <td>-6.035495</td>\n",
       "      <td>-1.969580</td>\n",
       "      <td>...</td>\n",
       "      <td>-3.792108</td>\n",
       "      <td>1.553872</td>\n",
       "      <td>16</td>\n",
       "      <td>-5.925409e-31</td>\n",
       "      <td>-6.482840e-31</td>\n",
       "      <td>-6.237005e-31</td>\n",
       "      <td>-7.331606e-31</td>\n",
       "      <td>-3.926219e-31</td>\n",
       "      <td>-5.980616e-31</td>\n",
       "      <td>1.128427e-31</td>\n",
       "    </tr>\n",
       "    <tr>\n",
       "      <th>17</th>\n",
       "      <td>0.020787</td>\n",
       "      <td>0.001720</td>\n",
       "      <td>0.003000</td>\n",
       "      <td>6.333155e-04</td>\n",
       "      <td>4</td>\n",
       "      <td>10</td>\n",
       "      <td>False</td>\n",
       "      <td>{'bootstrap': False, 'max_features': 4, 'n_est...</td>\n",
       "      <td>-4.486081</td>\n",
       "      <td>-1.672268</td>\n",
       "      <td>...</td>\n",
       "      <td>-2.989574</td>\n",
       "      <td>1.281516</td>\n",
       "      <td>9</td>\n",
       "      <td>-2.023966e-30</td>\n",
       "      <td>-2.313304e-30</td>\n",
       "      <td>-1.923519e-30</td>\n",
       "      <td>-1.967930e-30</td>\n",
       "      <td>-1.647674e-30</td>\n",
       "      <td>-1.975278e-30</td>\n",
       "      <td>2.129269e-31</td>\n",
       "    </tr>\n",
       "  </tbody>\n",
       "</table>\n",
       "<p>18 rows × 23 columns</p>\n",
       "</div>"
      ],
      "text/plain": [
       "    mean_fit_time  std_fit_time  mean_score_time  std_score_time  \\\n",
       "0        0.011389      0.004316         0.001999    1.094974e-03   \n",
       "1        0.019396      0.000491         0.002199    3.998757e-04   \n",
       "2        0.056167      0.001937         0.004197    4.000664e-04   \n",
       "3        0.007396      0.000490         0.001200    3.998280e-04   \n",
       "4        0.020189      0.000978         0.002394    4.846017e-04   \n",
       "5        0.060165      0.002481         0.004798    4.000703e-04   \n",
       "6        0.008198      0.000397         0.001199    3.998284e-04   \n",
       "7        0.037198      0.024057         0.003911    3.824782e-03   \n",
       "8        0.072957      0.023985         0.004198    4.007816e-04   \n",
       "9        0.007795      0.000748         0.001400    4.896679e-04   \n",
       "10       0.022387      0.001357         0.001998    6.843901e-07   \n",
       "11       0.069159      0.010042         0.004197    4.000427e-04   \n",
       "12       0.006195      0.000400         0.001400    4.900771e-04   \n",
       "13       0.018790      0.003058         0.002602    4.925209e-04   \n",
       "14       0.006200      0.000978         0.001399    4.897653e-04   \n",
       "15       0.017785      0.002640         0.002000    6.975526e-07   \n",
       "16       0.006596      0.001198         0.001799    3.995663e-04   \n",
       "17       0.020787      0.001720         0.003000    6.333155e-04   \n",
       "\n",
       "   param_max_features param_n_estimators param_bootstrap  \\\n",
       "0                   2                  3             NaN   \n",
       "1                   2                 10             NaN   \n",
       "2                   2                 30             NaN   \n",
       "3                   4                  3             NaN   \n",
       "4                   4                 10             NaN   \n",
       "5                   4                 30             NaN   \n",
       "6                   6                  3             NaN   \n",
       "7                   6                 10             NaN   \n",
       "8                   6                 30             NaN   \n",
       "9                   8                  3             NaN   \n",
       "10                  8                 10             NaN   \n",
       "11                  8                 30             NaN   \n",
       "12                  2                  3           False   \n",
       "13                  2                 10           False   \n",
       "14                  3                  3           False   \n",
       "15                  3                 10           False   \n",
       "16                  4                  3           False   \n",
       "17                  4                 10           False   \n",
       "\n",
       "                                               params  split0_test_score  \\\n",
       "0              {'max_features': 2, 'n_estimators': 3}          -7.852823   \n",
       "1             {'max_features': 2, 'n_estimators': 10}          -3.552646   \n",
       "2             {'max_features': 2, 'n_estimators': 30}          -4.250789   \n",
       "3              {'max_features': 4, 'n_estimators': 3}          -3.850330   \n",
       "4             {'max_features': 4, 'n_estimators': 10}          -2.997786   \n",
       "5             {'max_features': 4, 'n_estimators': 30}          -2.597438   \n",
       "6              {'max_features': 6, 'n_estimators': 3}          -3.993483   \n",
       "7             {'max_features': 6, 'n_estimators': 10}          -2.496981   \n",
       "8             {'max_features': 6, 'n_estimators': 30}          -2.763421   \n",
       "9              {'max_features': 8, 'n_estimators': 3}          -3.765586   \n",
       "10            {'max_features': 8, 'n_estimators': 10}          -3.530386   \n",
       "11            {'max_features': 8, 'n_estimators': 30}          -2.645466   \n",
       "12  {'bootstrap': False, 'max_features': 2, 'n_est...          -7.376456   \n",
       "13  {'bootstrap': False, 'max_features': 2, 'n_est...          -3.929435   \n",
       "14  {'bootstrap': False, 'max_features': 3, 'n_est...          -7.731171   \n",
       "15  {'bootstrap': False, 'max_features': 3, 'n_est...          -2.950735   \n",
       "16  {'bootstrap': False, 'max_features': 4, 'n_est...          -6.035495   \n",
       "17  {'bootstrap': False, 'max_features': 4, 'n_est...          -4.486081   \n",
       "\n",
       "    split1_test_score  ...  mean_test_score  std_test_score  rank_test_score  \\\n",
       "0           -2.595766  ...        -4.386779        1.967436               18   \n",
       "1           -1.866354  ...        -3.266589        0.879418               13   \n",
       "2           -1.881910  ...        -3.486965        1.053346               14   \n",
       "3           -2.552282  ...        -3.214288        1.229529               11   \n",
       "4           -1.499822  ...        -2.809102        0.773482                6   \n",
       "5           -1.387717  ...        -2.335667        0.637305                2   \n",
       "6           -2.062763  ...        -2.865910        0.734497                7   \n",
       "7           -1.906324  ...        -2.554238        0.957085                5   \n",
       "8           -1.867465  ...        -2.378339        0.874679                3   \n",
       "9           -1.337417  ...        -3.245310        1.286405               12   \n",
       "10          -1.407973  ...        -2.486701        0.702462                4   \n",
       "11          -1.816723  ...        -2.172222        0.672905                1   \n",
       "12          -1.533544  ...        -4.278809        2.007471               17   \n",
       "13          -1.356532  ...        -3.102144        1.063542               10   \n",
       "14          -0.821141  ...        -3.748666        2.479730               15   \n",
       "15          -1.187222  ...        -2.911607        1.254445                8   \n",
       "16          -1.969580  ...        -3.792108        1.553872               16   \n",
       "17          -1.672268  ...        -2.989574        1.281516                9   \n",
       "\n",
       "    split0_train_score  split1_train_score  split2_train_score  \\\n",
       "0        -8.160536e-01       -1.772935e+00       -1.700609e+00   \n",
       "1        -5.857731e-01       -8.198903e-01       -8.019671e-01   \n",
       "2        -3.526541e-01       -4.202522e-01       -7.003565e-01   \n",
       "3        -1.227410e+00       -1.250215e+00       -1.131126e+00   \n",
       "4        -6.882607e-01       -3.848276e-01       -7.820260e-01   \n",
       "5        -2.958758e-01       -4.096828e-01       -4.420275e-01   \n",
       "6        -9.041303e-01       -1.142038e+00       -6.803044e-01   \n",
       "7        -3.405041e-01       -5.091352e-01       -3.958774e-01   \n",
       "8        -3.410018e-01       -3.481811e-01       -3.328218e-01   \n",
       "9        -7.227663e-01       -7.100000e-01       -8.956469e-01   \n",
       "10       -3.014159e-01       -7.164083e-01       -6.228158e-01   \n",
       "11       -3.016199e-01       -3.582326e-01       -3.480581e-01   \n",
       "12       -5.925409e-31       -6.482840e-31       -6.237005e-31   \n",
       "13       -2.023966e-30       -1.379310e-04       -1.923329e-30   \n",
       "14       -5.925409e-31       -6.482840e-31       -6.237005e-31   \n",
       "15       -2.023966e-30       -2.313052e-30       -1.923012e-30   \n",
       "16       -5.925409e-31       -6.482840e-31       -6.237005e-31   \n",
       "17       -2.023966e-30       -2.313304e-30       -1.923519e-30   \n",
       "\n",
       "    split3_train_score  split4_train_score  mean_train_score  std_train_score  \n",
       "0        -2.235441e+00       -1.614673e+00     -1.627942e+00     4.592815e-01  \n",
       "1        -4.745089e-01       -4.158527e-01     -6.195984e-01     1.655794e-01  \n",
       "2        -3.882408e-01       -6.453933e-01     -5.013794e-01     1.427116e-01  \n",
       "3        -8.575190e-01       -8.192542e-01     -1.057105e+00     1.834022e-01  \n",
       "4        -3.840945e-01       -5.679301e-01     -5.614278e-01     1.596416e-01  \n",
       "5        -2.571145e-01       -3.550628e-01     -3.519527e-01     6.869473e-02  \n",
       "6        -1.035114e+00       -7.821233e-01     -9.087421e-01     1.665139e-01  \n",
       "7        -4.100493e-01       -3.603712e-01     -4.031875e-01     5.846002e-02  \n",
       "8        -2.835122e-01       -2.827213e-01     -3.176476e-01     2.861133e-02  \n",
       "9        -8.293379e-01       -4.899848e-01     -7.295472e-01     1.381054e-01  \n",
       "10       -3.830993e-01       -5.707055e-01     -5.188889e-01     1.537745e-01  \n",
       "11       -2.720205e-01       -2.679772e-01     -3.095817e-01     3.755664e-02  \n",
       "12       -7.331606e-31       -3.926219e-31     -5.980616e-31     1.128427e-31  \n",
       "13       -1.369863e-04       -1.647927e-30     -5.498347e-05     6.734138e-05  \n",
       "14       -7.331606e-31       -3.926219e-31     -5.980616e-31     1.128427e-31  \n",
       "15       -1.968116e-30       -1.647863e-30     -1.975202e-30     2.128126e-31  \n",
       "16       -7.331606e-31       -3.926219e-31     -5.980616e-31     1.128427e-31  \n",
       "17       -1.967930e-30       -1.647674e-30     -1.975278e-30     2.129269e-31  \n",
       "\n",
       "[18 rows x 23 columns]"
      ]
     },
     "execution_count": 42,
     "metadata": {},
     "output_type": "execute_result"
    }
   ],
   "source": [
    "pd.DataFrame(grid_cv.cv_results_)"
   ]
  },
  {
   "cell_type": "code",
   "execution_count": 43,
   "id": "79e41adc",
   "metadata": {},
   "outputs": [],
   "source": [
    "featur_importance = grid_cv.best_estimator_.feature_importances_\n",
    "featur_imp_2 = Random_rf.best_estimator_.feature_importances_"
   ]
  },
  {
   "cell_type": "code",
   "execution_count": 44,
   "id": "255b3a0e",
   "metadata": {},
   "outputs": [
    {
     "data": {
      "text/plain": [
       "[(0.710395586039766, 'ISI'),\n",
       " (0.1458534968403427, 'DMC'),\n",
       " (0.13011848348713143, 'FFMC'),\n",
       " (0.005757727953300377, 'RH'),\n",
       " (0.004531552563128742, 'Ws'),\n",
       " (0.002179347804264769, 'Temperature'),\n",
       " (0.000875620835780717, 'Region'),\n",
       " (0.00028818447628518103, 'Rain')]"
      ]
     },
     "execution_count": 44,
     "metadata": {},
     "output_type": "execute_result"
    }
   ],
   "source": [
    "sorted(zip(featur_importance,X_train.columns.tolist()),reverse=True)"
   ]
  },
  {
   "cell_type": "code",
   "execution_count": 45,
   "id": "16fbfff7",
   "metadata": {},
   "outputs": [
    {
     "data": {
      "text/plain": [
       "[(0.3588972688086508, 'ISI'),\n",
       " (0.21433720174531418, 'FFMC'),\n",
       " (0.21258931240859885, 'DMC'),\n",
       " (0.11300700041150963, 'Rain'),\n",
       " (0.0533879406933519, 'Temperature'),\n",
       " (0.03203625007007761, 'RH'),\n",
       " (0.011138919257746904, 'Ws'),\n",
       " (0.004606106604750153, 'Region')]"
      ]
     },
     "execution_count": 45,
     "metadata": {},
     "output_type": "execute_result"
    }
   ],
   "source": [
    "sorted(zip(featur_imp_2,X_train.columns.tolist()),reverse=True)"
   ]
  },
  {
   "cell_type": "code",
   "execution_count": 46,
   "id": "abcb2b23",
   "metadata": {},
   "outputs": [
    {
     "name": "stdout",
     "output_type": "stream",
     "text": [
      "(182, 8)\n"
     ]
    }
   ],
   "source": [
    "len(grid_cv.best_estimator_.feature_importances_)\n",
    "print(X_train_scaled.shape)"
   ]
  },
  {
   "cell_type": "markdown",
   "id": "9f69ff59",
   "metadata": {},
   "source": [
    "### Trunig Ridge Regression - Hyper parameter tuning"
   ]
  },
  {
   "cell_type": "code",
   "execution_count": 47,
   "id": "414f08d7",
   "metadata": {},
   "outputs": [
    {
     "data": {
      "text/plain": [
       "RandomizedSearchCV(cv=10, estimator=Ridge(), n_jobs=-1,\n",
       "                   param_distributions=[{'alpha': array([1.00000000e-11, 1.66810054e-11, 2.78255940e-11, 4.64158883e-11,\n",
       "       7.74263683e-11, 1.29154967e-10, 2.15443469e-10, 3.59381366e-10,\n",
       "       5.99484250e-10, 1.00000000e-09, 1.66810054e-09, 2.78255940e-09,\n",
       "       4.64158883e-09, 7.74263683e-09, 1.29154967e-08, 2.15443469e-08,\n",
       "       3.59381366e-08, 5.994...\n",
       "       5.99484250e+06, 1.00000000e+07, 1.66810054e+07, 2.78255940e+07,\n",
       "       4.64158883e+07, 7.74263683e+07, 1.29154967e+08, 2.15443469e+08,\n",
       "       3.59381366e+08, 5.99484250e+08, 1.00000000e+09, 1.66810054e+09,\n",
       "       2.78255940e+09, 4.64158883e+09, 7.74263683e+09, 1.29154967e+10,\n",
       "       2.15443469e+10, 3.59381366e+10, 5.99484250e+10, 1.00000000e+11]),\n",
       "                                         'solver': ['auto', 'svd', 'cholesky',\n",
       "                                                    'lsqr', 'sparse_cg', 'sag',\n",
       "                                                    'saga', 'lbfgs']}])"
      ]
     },
     "execution_count": 47,
     "metadata": {},
     "output_type": "execute_result"
    }
   ],
   "source": [
    "from sklearn.exceptions import FitFailedWarning, ConvergenceWarning\n",
    "import warnings\n",
    "warnings.filterwarnings(action = 'ignore')\n",
    "\n",
    "ridge_params = [{'alpha':(np.logspace(-11,11,100)),\n",
    "                'solver':['auto','svd','cholesky','lsqr', 'sparse_cg', 'sag', 'saga', 'lbfgs']}]\n",
    "ridge = Ridge()\n",
    "random_ridge = RandomizedSearchCV(ridge,ridge_params,cv=10,n_jobs = -1)\n",
    "random_ridge.fit(X_train_scaled,y_train)"
   ]
  },
  {
   "cell_type": "code",
   "execution_count": 48,
   "id": "bc9cc19e",
   "metadata": {},
   "outputs": [],
   "source": [
    "best_ridge = random_ridge.best_estimator_\n",
    "\n",
    "rbest_pred = best_ridge.predict(X_test_scaled)\n",
    "mae = mean_absolute_error(y_test,rbest_pred)\n",
    "r2 = r2_score(y_test,rbest_pred)\n"
   ]
  },
  {
   "cell_type": "code",
   "execution_count": 49,
   "id": "786e4891",
   "metadata": {},
   "outputs": [
    {
     "data": {
      "text/html": [
       "<div>\n",
       "<style scoped>\n",
       "    .dataframe tbody tr th:only-of-type {\n",
       "        vertical-align: middle;\n",
       "    }\n",
       "\n",
       "    .dataframe tbody tr th {\n",
       "        vertical-align: top;\n",
       "    }\n",
       "\n",
       "    .dataframe thead th {\n",
       "        text-align: right;\n",
       "    }\n",
       "</style>\n",
       "<table border=\"1\" class=\"dataframe\">\n",
       "  <thead>\n",
       "    <tr style=\"text-align: right;\">\n",
       "      <th></th>\n",
       "      <th>feature</th>\n",
       "      <th>importance</th>\n",
       "    </tr>\n",
       "  </thead>\n",
       "  <tbody>\n",
       "    <tr>\n",
       "      <th>6</th>\n",
       "      <td>ISI</td>\n",
       "      <td>0.358897</td>\n",
       "    </tr>\n",
       "    <tr>\n",
       "      <th>4</th>\n",
       "      <td>FFMC</td>\n",
       "      <td>0.214337</td>\n",
       "    </tr>\n",
       "    <tr>\n",
       "      <th>5</th>\n",
       "      <td>DMC</td>\n",
       "      <td>0.212589</td>\n",
       "    </tr>\n",
       "    <tr>\n",
       "      <th>3</th>\n",
       "      <td>Rain</td>\n",
       "      <td>0.113007</td>\n",
       "    </tr>\n",
       "    <tr>\n",
       "      <th>0</th>\n",
       "      <td>Temperature</td>\n",
       "      <td>0.053388</td>\n",
       "    </tr>\n",
       "    <tr>\n",
       "      <th>1</th>\n",
       "      <td>RH</td>\n",
       "      <td>0.032036</td>\n",
       "    </tr>\n",
       "    <tr>\n",
       "      <th>2</th>\n",
       "      <td>Ws</td>\n",
       "      <td>0.011139</td>\n",
       "    </tr>\n",
       "    <tr>\n",
       "      <th>7</th>\n",
       "      <td>Region</td>\n",
       "      <td>0.004606</td>\n",
       "    </tr>\n",
       "  </tbody>\n",
       "</table>\n",
       "</div>"
      ],
      "text/plain": [
       "       feature  importance\n",
       "6          ISI    0.358897\n",
       "4         FFMC    0.214337\n",
       "5          DMC    0.212589\n",
       "3         Rain    0.113007\n",
       "0  Temperature    0.053388\n",
       "1           RH    0.032036\n",
       "2           Ws    0.011139\n",
       "7       Region    0.004606"
      ]
     },
     "execution_count": 49,
     "metadata": {},
     "output_type": "execute_result"
    }
   ],
   "source": [
    "feature_importance = Random_rf.best_estimator_.feature_importances_\n",
    "imp_df = pd.DataFrame({'feature':X_train.columns,\n",
    "                       'importance':feature_importance}).sort_values('importance',ascending=False)\n",
    "imp_df"
   ]
  },
  {
   "cell_type": "code",
   "execution_count": 50,
   "id": "2b5d1919",
   "metadata": {},
   "outputs": [
    {
     "data": {
      "image/png": "[encoded data removed]",
      "text/plain": [
       "<Figure size 864x432 with 1 Axes>"
      ]
     },
     "metadata": {
      "needs_background": "light"
     },
     "output_type": "display_data"
    }
   ],
   "source": [
    "plt.figure(figsize=(12,6))\n",
    "sns.set_style('ticks')\n",
    "\n",
    "ax = sns.barplot(data=imp_df,x='importance',y='feature',ec='black')\n"
   ]
  },
  {
   "cell_type": "code",
   "execution_count": 51,
   "id": "cb7c968c",
   "metadata": {},
   "outputs": [],
   "source": [
    "drop_feature = ['Rain','Region','RH']\n",
    "X_train_final = X_train.drop(drop_feature, axis=1)\n",
    "X_test_final = X_test.drop(drop_feature, axis=1)"
   ]
  },
  {
   "cell_type": "code",
   "execution_count": 52,
   "id": "49fbd269",
   "metadata": {},
   "outputs": [
    {
     "data": {
      "text/plain": [
       "Index(['Temperature', 'Ws', 'FFMC', 'DMC', 'ISI'], dtype='object')"
      ]
     },
     "execution_count": 52,
     "metadata": {},
     "output_type": "execute_result"
    }
   ],
   "source": [
    "X_train_final.columns"
   ]
  },
  {
   "cell_type": "code",
   "execution_count": 53,
   "id": "b7e96ff5",
   "metadata": {},
   "outputs": [],
   "source": [
    "X_train_final_scaled,X_test_final_scaled =  scaler_standard(X_train_final,X_test_final)"
   ]
  },
  {
   "cell_type": "code",
   "execution_count": 54,
   "id": "a3a9ee03",
   "metadata": {},
   "outputs": [],
   "source": [
    "best_random_grid.fit(X_train_final_scaled,y_train)\n",
    "best_rf_pred = best_random_grid.predict(X_test_final_scaled)\n",
    "mae= mean_absolute_error(y_test, best_rf_pred)\n",
    "r2 = r2_score(y_test, best_rf_pred)"
   ]
  },
  {
   "cell_type": "code",
   "execution_count": 55,
   "id": "c58ae7b6",
   "metadata": {},
   "outputs": [],
   "source": [
    "import bz2,pickle\n",
    "file = bz2.BZ2File('regression_rfr.pkl','wb')\n",
    "pickle.dump(best_random_grid,file)\n",
    "file.close()"
   ]
  },
  {
   "cell_type": "markdown",
   "id": "d3fb949b",
   "metadata": {},
   "source": [
    "# Classifications"
   ]
  },
  {
   "cell_type": "markdown",
   "id": "424c03ad",
   "metadata": {},
   "source": [
    "GridSearchCV(\n",
    "    estimator,\n",
    "    param_grid,\n",
    "    scoring=None,\n",
    "    n_jobs=None,\n",
    "    refit=True,\n",
    "    cv=None,\n",
    "    verbose=0,\n",
    "    pre_dispatch='2*n_jobs',\n",
    "    error_score=nan,\n",
    "    return_train_score=False,\n",
    ")"
   ]
  },
  {
   "cell_type": "markdown",
   "id": "33893150",
   "metadata": {},
   "source": [
    "RandomizedSearchCV()\n",
    "\n",
    "RandomizedSearchCV(\n",
    "    estimator,\n",
    "    param_distributions,\n",
    "    n_iter=10,\n",
    "    scoring=None,\n",
    "    n_jobs=None,\n",
    "    refit=True,\n",
    "    cv=None,\n",
    "    verbose=0,\n",
    "    pre_dispatch='2*n_jobs',\n",
    "    random_state=None,\n",
    "    error_score=nan,\n",
    "    return_train_score=False,\n",
    ")"
   ]
  },
  {
   "cell_type": "markdown",
   "id": "7cc1971d",
   "metadata": {},
   "source": [
    "GridSearchCV()\n",
    "\n",
    "GridSearchCV(\n",
    "    estimator,\n",
    "    param_grid,\n",
    "    scoring=None,\n",
    "    n_jobs=None,\n",
    "    refit=True,\n",
    "    cv=None,\n",
    "    verbose=0,\n",
    "    pre_dispatch='2*n_jobs',\n",
    "    error_score=nan,\n",
    "    return_train_score=False,\n",
    ")"
   ]
  },
  {
   "cell_type": "markdown",
   "id": "69842ed7",
   "metadata": {},
   "source": [
    "Pipeline()\n",
    "\n",
    "Pipeline(steps, memory=None, verbose=False)\n",
    "Pipeline(steps=[('scaler', StandardScaler()), ('svc', SVC())])"
   ]
  },
  {
   "cell_type": "markdown",
   "id": "5e00c0bd",
   "metadata": {},
   "source": [
    "PowerTransformer()\n",
    "PowerTransformer(method='yeo-johnson', *, standardize=True, copy=True)\n",
    "\n",
    "pt = PowerTransformer()\n",
    "data = [[1, 2], [3, 2], [4, 5]]\n",
    "print(pt.fit(data))"
   ]
  },
  {
   "cell_type": "markdown",
   "id": "b073575e",
   "metadata": {},
   "source": [
    "ColumnTransformer()\n",
    "\n",
    "ColumnTransformer(\n",
    "    transformers,\n",
    "    remainder='drop',\n",
    "    sparse_threshold=0.3,\n",
    "    n_jobs=None,\n",
    "    transformer_weights=None,\n",
    "    verbose=False,\n",
    ")\n",
    "\n",
    "from sklearn.compose import ColumnTransformer\n",
    "from sklearn.preprocessing import Normalizer\n",
    "\n",
    "ct = ColumnTransformer(\n",
    "     [(\"norm1\", Normalizer(norm='l1'), [0, 1]),\n",
    "      (\"norm2\", Normalizer(norm='l1'), slice(2, 4))])\n",
    "\n",
    "X = np.array([[0., 1., 2., 2.],\n",
    "              [1., 1., 0., 1.]])\n",
    "\n",
    "ct.fit_transform(X)\n",
    "array([[0. , 1. , 0.5, 0.5],\n",
    "       [0.5, 0.5, 0. , 1. ]])"
   ]
  },
  {
   "cell_type": "markdown",
   "id": "88e2b67a",
   "metadata": {},
   "source": [
    "# Model Selection for Classifications"
   ]
  },
  {
   "cell_type": "code",
   "execution_count": 56,
   "id": "c6d98973",
   "metadata": {},
   "outputs": [
    {
     "data": {
      "text/plain": [
       "Index(['Temperature', 'RH', 'Ws', 'Rain', 'FFMC', 'DMC', 'DC', 'ISI', 'BUI',\n",
       "       'Classes', 'Region'],\n",
       "      dtype='object')"
      ]
     },
     "execution_count": 56,
     "metadata": {},
     "output_type": "execute_result"
    }
   ],
   "source": [
    "X.columns"
   ]
  },
  {
   "cell_type": "code",
   "execution_count": 57,
   "id": "7a907316",
   "metadata": {},
   "outputs": [],
   "source": [
    "X = df.drop('Classes',axis=1)\n",
    "y = df.Classes"
   ]
  },
  {
   "cell_type": "code",
   "execution_count": 58,
   "id": "3ab7cac4",
   "metadata": {},
   "outputs": [],
   "source": [
    "X_train,X_test,y_train,y_test = train_test_split(X,y,test_size=0.3,random_state=36)"
   ]
  },
  {
   "cell_type": "code",
   "execution_count": 59,
   "id": "2bc7bc5a",
   "metadata": {},
   "outputs": [
    {
     "data": {
      "text/plain": [
       "((170, 11), (73, 11))"
      ]
     },
     "execution_count": 59,
     "metadata": {},
     "output_type": "execute_result"
    }
   ],
   "source": [
    "X_train.shape,X_test.shape"
   ]
  },
  {
   "cell_type": "code",
   "execution_count": 60,
   "id": "5d30f75d",
   "metadata": {},
   "outputs": [
    {
     "data": {
      "image/png": "[encoded data removed]",
      "text/plain": [
       "<Figure size 864x720 with 2 Axes>"
      ]
     },
     "metadata": {},
     "output_type": "display_data"
    }
   ],
   "source": [
    "cor = X_train.corr()\n",
    "plt.figure(figsize=(12,10))\n",
    "sns.heatmap(cor, annot=True)\n",
    "plt.show()"
   ]
  },
  {
   "cell_type": "code",
   "execution_count": 61,
   "id": "80e0dd4d",
   "metadata": {},
   "outputs": [],
   "source": [
    "corr_featur =correlation(X_train, 0.75)"
   ]
  },
  {
   "cell_type": "code",
   "execution_count": 62,
   "id": "1bb837c3",
   "metadata": {},
   "outputs": [
    {
     "data": {
      "text/plain": [
       "{'BUI', 'DC', 'FWI'}"
      ]
     },
     "execution_count": 62,
     "metadata": {},
     "output_type": "execute_result"
    }
   ],
   "source": [
    "corr_featur"
   ]
  },
  {
   "cell_type": "code",
   "execution_count": 63,
   "id": "39831aec",
   "metadata": {},
   "outputs": [],
   "source": [
    "X_train.drop(corr_featur,axis=1,inplace=True)\n",
    "X_test.drop(corr_featur,axis=1,inplace = True)"
   ]
  },
  {
   "cell_type": "code",
   "execution_count": 64,
   "id": "b1a5bf78",
   "metadata": {},
   "outputs": [
    {
     "data": {
      "text/plain": [
       "((170, 8), (73, 8))"
      ]
     },
     "execution_count": 64,
     "metadata": {},
     "output_type": "execute_result"
    }
   ],
   "source": [
    "X_train.shape,X_test.shape"
   ]
  },
  {
   "cell_type": "code",
   "execution_count": 65,
   "id": "3baf8382",
   "metadata": {},
   "outputs": [],
   "source": [
    "s = StandardScaler()\n",
    "X_train_scaled = s.fit_transform(X_train)\n",
    "X_test_scaled = s.transform(X_test)"
   ]
  },
  {
   "cell_type": "markdown",
   "id": "8ff6950c",
   "metadata": {},
   "source": [
    "### Logistic Regression"
   ]
  },
  {
   "cell_type": "code",
   "execution_count": 66,
   "id": "34d8e2d6",
   "metadata": {},
   "outputs": [],
   "source": [
    "from sklearn.metrics import confusion_matrix,ConfusionMatrixDisplay,accuracy_score,classification_report,f1_score,jaccard_score,log_loss                         "
   ]
  },
  {
   "cell_type": "code",
   "execution_count": 67,
   "id": "b09c6bea",
   "metadata": {},
   "outputs": [],
   "source": [
    "from sklearn.linear_model import LogisticRegression\n",
    "\n",
    "lgr = LogisticRegression(max_iter=200)\n",
    "lgr.fit(X_train_scaled,y_train)\n",
    "lgr_pred = lgr.predict(X_test_scaled)"
   ]
  },
  {
   "cell_type": "code",
   "execution_count": 68,
   "id": "ded32650",
   "metadata": {},
   "outputs": [],
   "source": [
    "lgr_prob= lgr.predict_proba(X_test_scaled)"
   ]
  },
  {
   "cell_type": "code",
   "execution_count": 69,
   "id": "5026cb5e",
   "metadata": {},
   "outputs": [
    {
     "data": {
      "image/png": "[encoded data removed]",
      "text/plain": [
       "<Figure size 432x288 with 2 Axes>"
      ]
     },
     "metadata": {},
     "output_type": "display_data"
    }
   ],
   "source": [
    "cm = confusion_matrix(y_test, lgr_pred, labels=lgr.classes_)\n",
    "dist = ConfusionMatrixDisplay(cm,lgr.classes_)\n",
    "\n",
    "dist.plot()\n",
    "plt.title('Confusion Matrix')\n",
    "plt.xlabel('Predicted results')\n",
    "plt.ylabel('Actual Results')\n",
    "plt.show()"
   ]
  },
  {
   "cell_type": "code",
   "execution_count": 70,
   "id": "471dd1c3",
   "metadata": {},
   "outputs": [
    {
     "name": "stdout",
     "output_type": "stream",
     "text": [
      "              precision    recall  f1-score   support\n",
      "\n",
      "           0       0.92      0.96      0.94        25\n",
      "           1       0.98      0.96      0.97        48\n",
      "\n",
      "    accuracy                           0.96        73\n",
      "   macro avg       0.95      0.96      0.95        73\n",
      "weighted avg       0.96      0.96      0.96        73\n",
      "\n"
     ]
    }
   ],
   "source": [
    "print(classification_report(y_test,lgr_pred))"
   ]
  },
  {
   "cell_type": "markdown",
   "id": "be7ad81b",
   "metadata": {},
   "source": [
    "### Decision Tree -Classifier"
   ]
  },
  {
   "cell_type": "code",
   "execution_count": 71,
   "id": "fd8676b3",
   "metadata": {},
   "outputs": [],
   "source": [
    "from sklearn.tree import DecisionTreeClassifier\n",
    "\n",
    "dtc = DecisionTreeClassifier()\n",
    "dtc.fit(X_train_scaled,y_train)\n",
    "dtc_pred = dtc.predict(X_test_scaled)\n"
   ]
  },
  {
   "cell_type": "code",
   "execution_count": 72,
   "id": "4b2d56ee",
   "metadata": {},
   "outputs": [],
   "source": [
    "dtc_prob= dtc.predict_proba(X_test_scaled)"
   ]
  },
  {
   "cell_type": "code",
   "execution_count": 73,
   "id": "8dfdd766",
   "metadata": {},
   "outputs": [
    {
     "data": {
      "image/png": "[encoded data removed]",
      "text/plain": [
       "<Figure size 432x288 with 2 Axes>"
      ]
     },
     "metadata": {},
     "output_type": "display_data"
    }
   ],
   "source": [
    "cm = confusion_matrix(y_test, dtc_pred, labels=dtc.classes_)\n",
    "dist = ConfusionMatrixDisplay(cm,dtc.classes_)\n",
    "\n",
    "dist.plot()\n",
    "plt.title('Confusion Matrix')\n",
    "plt.xlabel('Predicted results')\n",
    "plt.ylabel('Actual Results')\n",
    "plt.show()"
   ]
  },
  {
   "cell_type": "code",
   "execution_count": 74,
   "id": "50e7f228",
   "metadata": {},
   "outputs": [
    {
     "name": "stdout",
     "output_type": "stream",
     "text": [
      "              precision    recall  f1-score   support\n",
      "\n",
      "           0       0.93      1.00      0.96        25\n",
      "           1       1.00      0.96      0.98        48\n",
      "\n",
      "    accuracy                           0.97        73\n",
      "   macro avg       0.96      0.98      0.97        73\n",
      "weighted avg       0.97      0.97      0.97        73\n",
      "\n"
     ]
    }
   ],
   "source": [
    "print(classification_report(y_test,dtc_pred))"
   ]
  },
  {
   "cell_type": "markdown",
   "id": "5c6abb12",
   "metadata": {},
   "source": [
    "### Random Forest -Classifier"
   ]
  },
  {
   "cell_type": "code",
   "execution_count": 75,
   "id": "fda57ac9",
   "metadata": {},
   "outputs": [],
   "source": [
    "from sklearn.ensemble import RandomForestClassifier\n",
    "\n",
    "rfc = RandomForestClassifier()\n",
    "rfc.fit(X_train_scaled,y_train)\n",
    "rfc_pred = rfc.predict(X_test_scaled)"
   ]
  },
  {
   "cell_type": "code",
   "execution_count": 76,
   "id": "438fa7e6",
   "metadata": {},
   "outputs": [],
   "source": [
    "rfc_prob= rfc.predict_proba(X_test_scaled)"
   ]
  },
  {
   "cell_type": "code",
   "execution_count": 77,
   "id": "f8015b84",
   "metadata": {},
   "outputs": [
    {
     "data": {
      "image/png": "[encoded data removed]",
      "text/plain": [
       "<Figure size 432x288 with 2 Axes>"
      ]
     },
     "metadata": {},
     "output_type": "display_data"
    }
   ],
   "source": [
    "cm = confusion_matrix(y_test, rfc_pred, labels=rfc.classes_)\n",
    "dist = ConfusionMatrixDisplay(cm,rfc.classes_)\n",
    "\n",
    "dist.plot()\n",
    "plt.title('Confusion Matrix')\n",
    "plt.xlabel('Predicted results')\n",
    "plt.ylabel('Actual Results')\n",
    "plt.show()"
   ]
  },
  {
   "cell_type": "code",
   "execution_count": 78,
   "id": "83e24a54",
   "metadata": {},
   "outputs": [
    {
     "name": "stdout",
     "output_type": "stream",
     "text": [
      "              precision    recall  f1-score   support\n",
      "\n",
      "           0       0.89      1.00      0.94        25\n",
      "           1       1.00      0.94      0.97        48\n",
      "\n",
      "    accuracy                           0.96        73\n",
      "   macro avg       0.95      0.97      0.96        73\n",
      "weighted avg       0.96      0.96      0.96        73\n",
      "\n"
     ]
    }
   ],
   "source": [
    "print(classification_report(y_test,rfc_pred))"
   ]
  },
  {
   "cell_type": "markdown",
   "id": "593ab528",
   "metadata": {},
   "source": [
    "### KNN -Classifier"
   ]
  },
  {
   "cell_type": "code",
   "execution_count": 79,
   "id": "b19d53f9",
   "metadata": {},
   "outputs": [],
   "source": [
    "from sklearn.neighbors import KNeighborsClassifier\n",
    "\n",
    "knc = KNeighborsClassifier()\n",
    "knc.fit(X_train_scaled,y_train)\n",
    "knc_pred = knc.predict(X_test_scaled)"
   ]
  },
  {
   "cell_type": "code",
   "execution_count": 80,
   "id": "422eabe1",
   "metadata": {},
   "outputs": [],
   "source": [
    "knc_prob= knc.predict_proba(X_test_scaled)"
   ]
  },
  {
   "cell_type": "code",
   "execution_count": 81,
   "id": "c13b165e",
   "metadata": {},
   "outputs": [
    {
     "data": {
      "image/png": "[encoded data removed]",
      "text/plain": [
       "<Figure size 432x288 with 2 Axes>"
      ]
     },
     "metadata": {},
     "output_type": "display_data"
    }
   ],
   "source": [
    "cm = confusion_matrix(y_test, knc_pred, labels=knc.classes_)\n",
    "dist = ConfusionMatrixDisplay(cm,knc.classes_)\n",
    "\n",
    "dist.plot()\n",
    "plt.title('Confusion Matrix')\n",
    "plt.xlabel('Predicted results')\n",
    "plt.ylabel('Actual Results')\n",
    "plt.show()"
   ]
  },
  {
   "cell_type": "code",
   "execution_count": 82,
   "id": "cd7c6b64",
   "metadata": {},
   "outputs": [
    {
     "name": "stdout",
     "output_type": "stream",
     "text": [
      "              precision    recall  f1-score   support\n",
      "\n",
      "           0       0.96      0.88      0.92        25\n",
      "           1       0.94      0.98      0.96        48\n",
      "\n",
      "    accuracy                           0.95        73\n",
      "   macro avg       0.95      0.93      0.94        73\n",
      "weighted avg       0.95      0.95      0.94        73\n",
      "\n"
     ]
    }
   ],
   "source": [
    "print(classification_report(y_test,knc_pred))"
   ]
  },
  {
   "cell_type": "markdown",
   "id": "2fc3a69b",
   "metadata": {},
   "source": [
    "### XGboost -Classifier"
   ]
  },
  {
   "cell_type": "code",
   "execution_count": 83,
   "id": "6d134a4f",
   "metadata": {},
   "outputs": [],
   "source": [
    "#!pip install xgboost\n",
    "# !conda install -c conda-forge xgboost"
   ]
  },
  {
   "cell_type": "code",
   "execution_count": 84,
   "id": "5518a70b",
   "metadata": {},
   "outputs": [],
   "source": [
    "import xgboost\n",
    "from xgboost import XGBClassifier\n",
    "\n",
    "xgb = XGBClassifier()\n",
    "xgb.fit(X_train_scaled,y_train)\n",
    "xgb_pred = xgb.predict(X_test_scaled)"
   ]
  },
  {
   "cell_type": "code",
   "execution_count": 85,
   "id": "285e30e4",
   "metadata": {},
   "outputs": [],
   "source": [
    "xgb_prob= xgb.predict_proba(X_test_scaled)"
   ]
  },
  {
   "cell_type": "code",
   "execution_count": 86,
   "id": "09a45265",
   "metadata": {},
   "outputs": [
    {
     "data": {
      "image/png": "[encoded data removed]",
      "text/plain": [
       "<Figure size 432x288 with 2 Axes>"
      ]
     },
     "metadata": {},
     "output_type": "display_data"
    }
   ],
   "source": [
    "cm = confusion_matrix(y_test, xgb_pred, labels=xgb.classes_)\n",
    "dist = ConfusionMatrixDisplay(cm,xgb.classes_)\n",
    "\n",
    "dist.plot()\n",
    "plt.title('Confusion Matrix')\n",
    "plt.xlabel('Predicted results')\n",
    "plt.ylabel('Actual Results')\n",
    "plt.show()"
   ]
  },
  {
   "cell_type": "code",
   "execution_count": 87,
   "id": "551096a3",
   "metadata": {},
   "outputs": [
    {
     "name": "stdout",
     "output_type": "stream",
     "text": [
      "              precision    recall  f1-score   support\n",
      "\n",
      "           0       0.93      1.00      0.96        25\n",
      "           1       1.00      0.96      0.98        48\n",
      "\n",
      "    accuracy                           0.97        73\n",
      "   macro avg       0.96      0.98      0.97        73\n",
      "weighted avg       0.97      0.97      0.97        73\n",
      "\n"
     ]
    }
   ],
   "source": [
    "print(classification_report(y_test,xgb_pred))"
   ]
  },
  {
   "cell_type": "code",
   "execution_count": 88,
   "id": "029e52f0",
   "metadata": {},
   "outputs": [],
   "source": [
    "metrics = [accuracy_score,f1_score,jaccard_score,log_loss]\n",
    "pred_name =['lgr_pred','dtc_pred','rfc_pred','knc_pred','xgb_pred']\n",
    "pred_value = [lgr_pred,dtc_pred,rfc_pred,knc_pred,xgb_pred]\n",
    "pred_dict = {i:i for i in pred_name}\n",
    "pred_prob = [lgr_prob,dtc_prob,rfc_prob,knc_prob,xgb_prob]"
   ]
  },
  {
   "cell_type": "code",
   "execution_count": 89,
   "id": "8f5d7a75",
   "metadata": {},
   "outputs": [],
   "source": [
    "all_pred = zip(pred_name,pred_value)\n",
    "\n",
    "accu_dict = {}\n",
    "accu_list = []\n",
    "f1_dict = {}\n",
    "f1_list = []\n",
    "jaccard_dict = {}\n",
    "jaccard_list = []\n",
    "logloss_dict = {}\n",
    "logloss_list = []\n",
    "\n",
    "for i in all_pred:\n",
    "    accu_dict[i[0]] = accuracy_score(y_test,i[1])\n",
    "    accu_list.append(accuracy_score(y_test,i[1]))\n",
    "    f1_dict[i[0]] = f1_score(y_test,i[1])\n",
    "    f1_list.append(f1_score(y_test,i[1]))\n",
    "    jaccard_dict[i[0]] = jaccard_score(y_test,i[1])\n",
    "    jaccard_list.append(jaccard_score(y_test,i[1]))\n",
    "    logloss_dict[i[0]] = log_loss(y_test,i[1])\n",
    "    logloss_list.append(log_loss(y_test,i[1]))"
   ]
  },
  {
   "cell_type": "code",
   "execution_count": 90,
   "id": "c3ea3e1d",
   "metadata": {},
   "outputs": [],
   "source": [
    "idx = ['LogisticRegression','DecisionTree','RandomForestClassifier','K-NNClassifier','XGBClassifier']"
   ]
  },
  {
   "cell_type": "code",
   "execution_count": 91,
   "id": "8a348695",
   "metadata": {},
   "outputs": [],
   "source": [
    "results_df = pd.DataFrame({'Accuracy_score':accu_list,'F1_score':f1_list, 'Jaccard_score':jaccard_list,'log_loss':logloss_list},index=idx)"
   ]
  },
  {
   "cell_type": "code",
   "execution_count": 92,
   "id": "692d5f11",
   "metadata": {},
   "outputs": [
    {
     "data": {
      "text/html": [
       "<div>\n",
       "<style scoped>\n",
       "    .dataframe tbody tr th:only-of-type {\n",
       "        vertical-align: middle;\n",
       "    }\n",
       "\n",
       "    .dataframe tbody tr th {\n",
       "        vertical-align: top;\n",
       "    }\n",
       "\n",
       "    .dataframe thead th {\n",
       "        text-align: right;\n",
       "    }\n",
       "</style>\n",
       "<table border=\"1\" class=\"dataframe\">\n",
       "  <thead>\n",
       "    <tr style=\"text-align: right;\">\n",
       "      <th></th>\n",
       "      <th>Accuracy_score</th>\n",
       "      <th>F1_score</th>\n",
       "      <th>Jaccard_score</th>\n",
       "      <th>log_loss</th>\n",
       "    </tr>\n",
       "  </thead>\n",
       "  <tbody>\n",
       "    <tr>\n",
       "      <th>DecisionTree</th>\n",
       "      <td>0.972603</td>\n",
       "      <td>0.978723</td>\n",
       "      <td>0.958333</td>\n",
       "      <td>0.946268</td>\n",
       "    </tr>\n",
       "    <tr>\n",
       "      <th>XGBClassifier</th>\n",
       "      <td>0.972603</td>\n",
       "      <td>0.978723</td>\n",
       "      <td>0.958333</td>\n",
       "      <td>0.946268</td>\n",
       "    </tr>\n",
       "    <tr>\n",
       "      <th>LogisticRegression</th>\n",
       "      <td>0.958904</td>\n",
       "      <td>0.968421</td>\n",
       "      <td>0.938776</td>\n",
       "      <td>1.419413</td>\n",
       "    </tr>\n",
       "    <tr>\n",
       "      <th>RandomForestClassifier</th>\n",
       "      <td>0.958904</td>\n",
       "      <td>0.967742</td>\n",
       "      <td>0.937500</td>\n",
       "      <td>1.419402</td>\n",
       "    </tr>\n",
       "    <tr>\n",
       "      <th>K-NNClassifier</th>\n",
       "      <td>0.945205</td>\n",
       "      <td>0.959184</td>\n",
       "      <td>0.921569</td>\n",
       "      <td>1.892569</td>\n",
       "    </tr>\n",
       "  </tbody>\n",
       "</table>\n",
       "</div>"
      ],
      "text/plain": [
       "                        Accuracy_score  F1_score  Jaccard_score  log_loss\n",
       "DecisionTree                  0.972603  0.978723       0.958333  0.946268\n",
       "XGBClassifier                 0.972603  0.978723       0.958333  0.946268\n",
       "LogisticRegression            0.958904  0.968421       0.938776  1.419413\n",
       "RandomForestClassifier        0.958904  0.967742       0.937500  1.419402\n",
       "K-NNClassifier                0.945205  0.959184       0.921569  1.892569"
      ]
     },
     "execution_count": 92,
     "metadata": {},
     "output_type": "execute_result"
    }
   ],
   "source": [
    "results_df.sort_values(['Accuracy_score'],ascending=False)"
   ]
  },
  {
   "cell_type": "code",
   "execution_count": null,
   "id": "8bc1a60d",
   "metadata": {},
   "outputs": [],
   "source": []
  },
  {
   "cell_type": "markdown",
   "id": "662216ab",
   "metadata": {},
   "source": [
    "## Hyper parameter Tuning - Model tuning"
   ]
  },
  {
   "cell_type": "markdown",
   "id": "04b05c07",
   "metadata": {},
   "source": [
    "### XGBoost Classfier - Tuning"
   ]
  },
  {
   "cell_type": "code",
   "execution_count": 93,
   "id": "e092761b",
   "metadata": {},
   "outputs": [
    {
     "data": {
      "text/plain": [
       "XGBClassifier(base_score=0.5, booster='gbtree', callbacks=None,\n",
       "              colsample_bylevel=1, colsample_bynode=1, colsample_bytree=0.3,\n",
       "              early_stopping_rounds=None, enable_categorical=False,\n",
       "              eval_metric=None, gamma=0.3, gpu_id=-1, grow_policy='depthwise',\n",
       "              importance_type=None, interaction_constraints='',\n",
       "              learning_rate=7.979797979797979, max_bin=256, max_cat_to_onehot=4,\n",
       "              max_delta_step=0, max_depth=37, max_leaves=0, min_child_weight=1,\n",
       "              missing=nan, monotone_constraints='()', n_estimators=100,\n",
       "              n_jobs=0, num_parallel_tree=1, predictor='auto', random_state=0,\n",
       "              reg_alpha=0, reg_lambda=1, ...)"
      ]
     },
     "execution_count": 93,
     "metadata": {},
     "output_type": "execute_result"
    }
   ],
   "source": [
    "params ={\n",
    "    'learning_rate' : (np.linspace(0,10,100)),\n",
    "    'max_depth' : (np.linspace(1,50,25,dtype =int)),\n",
    "    'min_child_weight' : [1, 3, 5, 7],\n",
    "    'gamma' : [0.0, 0.1, 0.2, 0.3, 0.4],\n",
    "    'colsample_bytree' :[0.3, 0.4, 0.5, 0.7]\n",
    "}\n",
    "Random_xgb = RandomizedSearchCV(xgb,params,cv=10,n_jobs=-1)\n",
    "Random_xgb.fit(X_train_scaled,y_train).best_estimator_"
   ]
  },
  {
   "cell_type": "code",
   "execution_count": 94,
   "id": "3ab9170d",
   "metadata": {},
   "outputs": [
    {
     "name": "stdout",
     "output_type": "stream",
     "text": [
      "              precision    recall  f1-score   support\n",
      "\n",
      "           0       1.00      1.00      1.00        25\n",
      "           1       1.00      1.00      1.00        48\n",
      "\n",
      "    accuracy                           1.00        73\n",
      "   macro avg       1.00      1.00      1.00        73\n",
      "weighted avg       1.00      1.00      1.00        73\n",
      "\n"
     ]
    }
   ],
   "source": [
    "best_xgb = Random_xgb.best_estimator_\n",
    "best_xgb.score(X_test_scaled,y_test)\n",
    "bestxgb_pred = best_xgb.predict(X_test_scaled)\n",
    "cr = classification_report(y_test,bestxgb_pred)\n",
    "print(cr)"
   ]
  },
  {
   "cell_type": "markdown",
   "id": "7204a1c3",
   "metadata": {},
   "source": [
    "### RandomForest Classfier - Tuning"
   ]
  },
  {
   "cell_type": "code",
   "execution_count": 95,
   "id": "fdfebe74",
   "metadata": {},
   "outputs": [
    {
     "data": {
      "text/plain": [
       "RandomForestClassifier(max_depth=12, max_features='log2', min_samples_leaf=5,\n",
       "                       min_samples_split=7, n_estimators=115)"
      ]
     },
     "execution_count": 95,
     "metadata": {},
     "output_type": "execute_result"
    }
   ],
   "source": [
    "params = {\n",
    "    \"n_estimators\" : [90,100,115,130],\n",
    "    'criterion': ['gini', 'entropy'],\n",
    "    'max_depth' : range(2,20,1),\n",
    "    'min_samples_leaf' : range(1,10,1),\n",
    "    'min_samples_split': range(2,10,1),\n",
    "    'max_features' : ['auto','log2']\n",
    "}\n",
    "random_rf = RandomizedSearchCV(rfc, params, cv = 10,n_jobs = -1)\n",
    "random_rf.fit(X_train_scaled, y_train).best_estimator_"
   ]
  },
  {
   "cell_type": "code",
   "execution_count": 96,
   "id": "540a91f6",
   "metadata": {},
   "outputs": [
    {
     "name": "stdout",
     "output_type": "stream",
     "text": [
      "FINAL Random Forest\n",
      "              precision    recall  f1-score   support\n",
      "\n",
      "           0       0.89      1.00      0.94        25\n",
      "           1       1.00      0.94      0.97        48\n",
      "\n",
      "    accuracy                           0.96        73\n",
      "   macro avg       0.95      0.97      0.96        73\n",
      "weighted avg       0.96      0.96      0.96        73\n",
      "\n"
     ]
    }
   ],
   "source": [
    "best_rf = random_rf.best_estimator_\n",
    "\n",
    "best_rf.score(X_test_scaled,y_test)\n",
    "bestrf_pred = best_rf.predict(X_test_scaled)\n",
    "\n",
    "cr = classification_report(y_test,bestrf_pred)\n",
    "print(\"FINAL Random Forest\")\n",
    "print (cr)"
   ]
  },
  {
   "cell_type": "markdown",
   "id": "f8c8a7b6",
   "metadata": {},
   "source": [
    "### Applying Stratified KFold Cros-Validation to know exact mean CV Accuracy for all models"
   ]
  },
  {
   "cell_type": "code",
   "execution_count": 97,
   "id": "4f1d3043",
   "metadata": {},
   "outputs": [],
   "source": [
    "from sklearn.model_selection import StratifiedKFold, cross_val_score\n",
    "skfold = StratifiedKFold(n_splits=10,shuffle=True, random_state=36)"
   ]
  },
  {
   "cell_type": "code",
   "execution_count": 98,
   "id": "174d4a6f",
   "metadata": {},
   "outputs": [],
   "source": [
    "model = [best_xgb, rfc, dtc, knc, lgr]\n",
    "name = ['Best_XGB','RandomForest','DecisionTree','KNN','Logistic']"
   ]
  },
  {
   "cell_type": "code",
   "execution_count": 99,
   "id": "0ae29dc6",
   "metadata": {},
   "outputs": [],
   "source": [
    "final_list = list(zip(model,name))"
   ]
  },
  {
   "cell_type": "code",
   "execution_count": 100,
   "id": "9bda83d8",
   "metadata": {},
   "outputs": [],
   "source": [
    "all_cv = {}\n",
    "for i in final_list:\n",
    "    all_cv[i[1]]=round(cross_val_score(i[0],X,y,cv=skfold,scoring='accuracy').mean(),4)"
   ]
  },
  {
   "cell_type": "code",
   "execution_count": 101,
   "id": "60d79218",
   "metadata": {},
   "outputs": [
    {
     "data": {
      "text/plain": [
       "{'Best_XGB': 0.9668,\n",
       " 'RandomForest': 0.971,\n",
       " 'DecisionTree': 0.971,\n",
       " 'KNN': 0.8968,\n",
       " 'Logistic': 0.9752}"
      ]
     },
     "execution_count": 101,
     "metadata": {},
     "output_type": "execute_result"
    }
   ],
   "source": [
    "all_cv"
   ]
  },
  {
   "cell_type": "code",
   "execution_count": 102,
   "id": "d11880df",
   "metadata": {},
   "outputs": [],
   "source": [
    "df = pd.DataFrame({'score':[i for i in all_cv.values()]},index=[i for i in all_cv.keys()])"
   ]
  },
  {
   "cell_type": "code",
   "execution_count": 103,
   "id": "75dac820",
   "metadata": {},
   "outputs": [
    {
     "data": {
      "text/html": [
       "<div>\n",
       "<style scoped>\n",
       "    .dataframe tbody tr th:only-of-type {\n",
       "        vertical-align: middle;\n",
       "    }\n",
       "\n",
       "    .dataframe tbody tr th {\n",
       "        vertical-align: top;\n",
       "    }\n",
       "\n",
       "    .dataframe thead th {\n",
       "        text-align: right;\n",
       "    }\n",
       "</style>\n",
       "<table border=\"1\" class=\"dataframe\">\n",
       "  <thead>\n",
       "    <tr style=\"text-align: right;\">\n",
       "      <th></th>\n",
       "      <th>score</th>\n",
       "    </tr>\n",
       "  </thead>\n",
       "  <tbody>\n",
       "    <tr>\n",
       "      <th>Logistic</th>\n",
       "      <td>0.9752</td>\n",
       "    </tr>\n",
       "    <tr>\n",
       "      <th>RandomForest</th>\n",
       "      <td>0.9710</td>\n",
       "    </tr>\n",
       "    <tr>\n",
       "      <th>DecisionTree</th>\n",
       "      <td>0.9710</td>\n",
       "    </tr>\n",
       "    <tr>\n",
       "      <th>Best_XGB</th>\n",
       "      <td>0.9668</td>\n",
       "    </tr>\n",
       "    <tr>\n",
       "      <th>KNN</th>\n",
       "      <td>0.8968</td>\n",
       "    </tr>\n",
       "  </tbody>\n",
       "</table>\n",
       "</div>"
      ],
      "text/plain": [
       "               score\n",
       "Logistic      0.9752\n",
       "RandomForest  0.9710\n",
       "DecisionTree  0.9710\n",
       "Best_XGB      0.9668\n",
       "KNN           0.8968"
      ]
     },
     "execution_count": 103,
     "metadata": {},
     "output_type": "execute_result"
    }
   ],
   "source": [
    "df.sort_values('score',ascending=False)"
   ]
  },
  {
   "cell_type": "markdown",
   "id": "2f772111",
   "metadata": {},
   "source": [
    "### Feature Selections for model Deployment"
   ]
  },
  {
   "cell_type": "code",
   "execution_count": 104,
   "id": "c7664f0f",
   "metadata": {},
   "outputs": [],
   "source": [
    "feature_importances = Random_xgb.best_estimator_.feature_importances_"
   ]
  },
  {
   "cell_type": "code",
   "execution_count": 105,
   "id": "36850a46",
   "metadata": {},
   "outputs": [
    {
     "data": {
      "text/html": [
       "<div>\n",
       "<style scoped>\n",
       "    .dataframe tbody tr th:only-of-type {\n",
       "        vertical-align: middle;\n",
       "    }\n",
       "\n",
       "    .dataframe tbody tr th {\n",
       "        vertical-align: top;\n",
       "    }\n",
       "\n",
       "    .dataframe thead th {\n",
       "        text-align: right;\n",
       "    }\n",
       "</style>\n",
       "<table border=\"1\" class=\"dataframe\">\n",
       "  <thead>\n",
       "    <tr style=\"text-align: right;\">\n",
       "      <th></th>\n",
       "      <th>feature</th>\n",
       "      <th>importance</th>\n",
       "    </tr>\n",
       "  </thead>\n",
       "  <tbody>\n",
       "    <tr>\n",
       "      <th>0</th>\n",
       "      <td>Temperature</td>\n",
       "      <td>0.0</td>\n",
       "    </tr>\n",
       "    <tr>\n",
       "      <th>1</th>\n",
       "      <td>RH</td>\n",
       "      <td>0.0</td>\n",
       "    </tr>\n",
       "    <tr>\n",
       "      <th>2</th>\n",
       "      <td>Ws</td>\n",
       "      <td>0.0</td>\n",
       "    </tr>\n",
       "    <tr>\n",
       "      <th>3</th>\n",
       "      <td>Rain</td>\n",
       "      <td>0.0</td>\n",
       "    </tr>\n",
       "    <tr>\n",
       "      <th>4</th>\n",
       "      <td>FFMC</td>\n",
       "      <td>0.0</td>\n",
       "    </tr>\n",
       "    <tr>\n",
       "      <th>5</th>\n",
       "      <td>DMC</td>\n",
       "      <td>0.0</td>\n",
       "    </tr>\n",
       "    <tr>\n",
       "      <th>7</th>\n",
       "      <td>Region</td>\n",
       "      <td>0.0</td>\n",
       "    </tr>\n",
       "    <tr>\n",
       "      <th>6</th>\n",
       "      <td>ISI</td>\n",
       "      <td>1.0</td>\n",
       "    </tr>\n",
       "  </tbody>\n",
       "</table>\n",
       "</div>"
      ],
      "text/plain": [
       "       feature  importance\n",
       "0  Temperature         0.0\n",
       "1           RH         0.0\n",
       "2           Ws         0.0\n",
       "3         Rain         0.0\n",
       "4         FFMC         0.0\n",
       "5          DMC         0.0\n",
       "7       Region         0.0\n",
       "6          ISI         1.0"
      ]
     },
     "execution_count": 105,
     "metadata": {},
     "output_type": "execute_result"
    }
   ],
   "source": [
    "importances_df = pd.DataFrame({\n",
    "    'feature':X_train.columns,\n",
    "    'importance':feature_importances,\n",
    "}).sort_values('importance',ascending=True)\n",
    "importances_df"
   ]
  },
  {
   "cell_type": "code",
   "execution_count": 106,
   "id": "bb440e5e",
   "metadata": {},
   "outputs": [
    {
     "data": {
      "text/plain": [
       "Text(0, 0.5, 'Feature')"
      ]
     },
     "execution_count": 106,
     "metadata": {},
     "output_type": "execute_result"
    },
    {
     "data": {
      "image/png": "[encoded data removed]",
      "text/plain": [
       "<Figure size 864x432 with 1 Axes>"
      ]
     },
     "metadata": {},
     "output_type": "display_data"
    }
   ],
   "source": [
    "plt.figure(figsize=(12,6))\n",
    "sns.set_style('ticks')\n",
    "ax = sns.barplot(data=importances_df,x='importance',y='feature')\n",
    "ax.set_xlabel(\"Feature imp\",weight='bold')\n",
    "ax.set_ylabel('Feature',weight='bold')"
   ]
  },
  {
   "cell_type": "markdown",
   "id": "46ac45b1",
   "metadata": {},
   "source": [
    "## Model_Deployment"
   ]
  },
  {
   "cell_type": "code",
   "execution_count": 107,
   "id": "6d8e94d9",
   "metadata": {},
   "outputs": [],
   "source": [
    "Xtrain_new = X_train.drop(['Rain', 'Region', 'RH'], axis=1)\n",
    "Xtest_new = X_test.drop(['Rain', 'Region', 'RH'], axis=1)"
   ]
  },
  {
   "cell_type": "code",
   "execution_count": 108,
   "id": "74ee97c1",
   "metadata": {},
   "outputs": [],
   "source": [
    "Xtrain_new_scaled,Xtest_new_scaled = scaler_standard(Xtrain_new,Xtest_new)"
   ]
  },
  {
   "cell_type": "code",
   "execution_count": 109,
   "id": "118a9aac",
   "metadata": {},
   "outputs": [
    {
     "name": "stdout",
     "output_type": "stream",
     "text": [
      "              precision    recall  f1-score   support\n",
      "\n",
      "           0       0.89      1.00      0.94        25\n",
      "           1       1.00      0.94      0.97        48\n",
      "\n",
      "    accuracy                           0.96        73\n",
      "   macro avg       0.95      0.97      0.96        73\n",
      "weighted avg       0.96      0.96      0.96        73\n",
      "\n"
     ]
    }
   ],
   "source": [
    "xgb_model = Random_xgb.fit(Xtrain_new_scaled,y_train)\n",
    "xgb_model.score(Xtest_new_scaled,y_test)\n",
    "xgb_model_pred = xgb_model.predict(Xtest_new_scaled)\n",
    "cr = classification_report(y_test,xgb_model_pred)\n",
    "print(cr)"
   ]
  },
  {
   "cell_type": "code",
   "execution_count": 110,
   "id": "3e610310",
   "metadata": {},
   "outputs": [],
   "source": [
    "import bz2,pickle\n",
    "file = bz2.BZ2File('classification.pkl','wb')\n",
    "pickle.dump(xgb_model,file)\n",
    "file.close()"
   ]
  },
  {
   "cell_type": "code",
   "execution_count": 111,
   "id": "fc8ee730",
   "metadata": {},
   "outputs": [
    {
     "data": {
      "text/html": [
       "<div>\n",
       "<style scoped>\n",
       "    .dataframe tbody tr th:only-of-type {\n",
       "        vertical-align: middle;\n",
       "    }\n",
       "\n",
       "    .dataframe tbody tr th {\n",
       "        vertical-align: top;\n",
       "    }\n",
       "\n",
       "    .dataframe thead th {\n",
       "        text-align: right;\n",
       "    }\n",
       "</style>\n",
       "<table border=\"1\" class=\"dataframe\">\n",
       "  <thead>\n",
       "    <tr style=\"text-align: right;\">\n",
       "      <th></th>\n",
       "      <th>Temperature</th>\n",
       "      <th>Ws</th>\n",
       "      <th>FFMC</th>\n",
       "      <th>DMC</th>\n",
       "      <th>ISI</th>\n",
       "    </tr>\n",
       "  </thead>\n",
       "  <tbody>\n",
       "    <tr>\n",
       "      <th>74</th>\n",
       "      <td>33</td>\n",
       "      <td>14</td>\n",
       "      <td>87.0</td>\n",
       "      <td>21.7</td>\n",
       "      <td>5.7</td>\n",
       "    </tr>\n",
       "    <tr>\n",
       "      <th>215</th>\n",
       "      <td>28</td>\n",
       "      <td>16</td>\n",
       "      <td>82.2</td>\n",
       "      <td>4.4</td>\n",
       "      <td>3.3</td>\n",
       "    </tr>\n",
       "    <tr>\n",
       "      <th>96</th>\n",
       "      <td>29</td>\n",
       "      <td>16</td>\n",
       "      <td>80.8</td>\n",
       "      <td>3.4</td>\n",
       "      <td>2.8</td>\n",
       "    </tr>\n",
       "    <tr>\n",
       "      <th>63</th>\n",
       "      <td>35</td>\n",
       "      <td>14</td>\n",
       "      <td>76.6</td>\n",
       "      <td>5.7</td>\n",
       "      <td>1.7</td>\n",
       "    </tr>\n",
       "    <tr>\n",
       "      <th>12</th>\n",
       "      <td>27</td>\n",
       "      <td>21</td>\n",
       "      <td>50.0</td>\n",
       "      <td>6.7</td>\n",
       "      <td>0.5</td>\n",
       "    </tr>\n",
       "    <tr>\n",
       "      <th>...</th>\n",
       "      <td>...</td>\n",
       "      <td>...</td>\n",
       "      <td>...</td>\n",
       "      <td>...</td>\n",
       "      <td>...</td>\n",
       "    </tr>\n",
       "    <tr>\n",
       "      <th>80</th>\n",
       "      <td>35</td>\n",
       "      <td>19</td>\n",
       "      <td>88.3</td>\n",
       "      <td>25.9</td>\n",
       "      <td>8.8</td>\n",
       "    </tr>\n",
       "    <tr>\n",
       "      <th>182</th>\n",
       "      <td>38</td>\n",
       "      <td>14</td>\n",
       "      <td>78.3</td>\n",
       "      <td>4.4</td>\n",
       "      <td>2.0</td>\n",
       "    </tr>\n",
       "    <tr>\n",
       "      <th>27</th>\n",
       "      <td>32</td>\n",
       "      <td>14</td>\n",
       "      <td>89.1</td>\n",
       "      <td>25.5</td>\n",
       "      <td>7.6</td>\n",
       "    </tr>\n",
       "    <tr>\n",
       "      <th>211</th>\n",
       "      <td>34</td>\n",
       "      <td>15</td>\n",
       "      <td>89.2</td>\n",
       "      <td>24.8</td>\n",
       "      <td>8.1</td>\n",
       "    </tr>\n",
       "    <tr>\n",
       "      <th>155</th>\n",
       "      <td>34</td>\n",
       "      <td>18</td>\n",
       "      <td>88.0</td>\n",
       "      <td>13.6</td>\n",
       "      <td>8.0</td>\n",
       "    </tr>\n",
       "  </tbody>\n",
       "</table>\n",
       "<p>73 rows × 5 columns</p>\n",
       "</div>"
      ],
      "text/plain": [
       "     Temperature  Ws  FFMC   DMC  ISI\n",
       "74            33  14  87.0  21.7  5.7\n",
       "215           28  16  82.2   4.4  3.3\n",
       "96            29  16  80.8   3.4  2.8\n",
       "63            35  14  76.6   5.7  1.7\n",
       "12            27  21  50.0   6.7  0.5\n",
       "..           ...  ..   ...   ...  ...\n",
       "80            35  19  88.3  25.9  8.8\n",
       "182           38  14  78.3   4.4  2.0\n",
       "27            32  14  89.1  25.5  7.6\n",
       "211           34  15  89.2  24.8  8.1\n",
       "155           34  18  88.0  13.6  8.0\n",
       "\n",
       "[73 rows x 5 columns]"
      ]
     },
     "execution_count": 111,
     "metadata": {},
     "output_type": "execute_result"
    }
   ],
   "source": [
    "Xtest_new"
   ]
  }
 ],
 "metadata": {
  "kernelspec": {
   "display_name": "Python 3 (ipykernel)",
   "language": "python",
   "name": "python3"
  },
  "language_info": {
   "codemirror_mode": {
    "name": "ipython",
    "version": 3
   },
   "file_extension": ".py",
   "mimetype": "text/x-python",
   "name": "python",
   "nbconvert_exporter": "python",
   "pygments_lexer": "ipython3",
   "version": "3.9.7"
  }
 },
 "nbformat": 4,
 "nbformat_minor": 5
}
